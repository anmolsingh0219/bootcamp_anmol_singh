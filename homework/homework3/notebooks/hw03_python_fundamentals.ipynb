{
 "cells": [
  {
   "cell_type": "markdown",
   "id": "511dba82",
   "metadata": {},
   "source": [
    "# Homework 3: Python Fundamentals\n",
    "\n",
    "## 1. NumPy Operations\n"
   ]
  },
  {
   "cell_type": "code",
   "execution_count": 1,
   "id": "85e1646d",
   "metadata": {},
   "outputs": [
    {
     "name": "stdout",
     "output_type": "stream",
     "text": [
      "NumPy arrays\n",
      "array 1: [1 2 3 4 5]\n",
      "array 2: [10 20 30 40 50]\n",
      "array shape: (1000000,)\n",
      "array sample (first 10): [59 52 39 77 36 56  3 42 80 52]\n"
     ]
    }
   ],
   "source": [
    "import numpy as np\n",
    "import time\n",
    "\n",
    "print(\"NumPy arrays\")\n",
    "arr1 = np.array([1, 2, 3, 4, 5])\n",
    "arr2 = np.array([10, 20, 30, 40, 50])\n",
    "large_arr = np.random.randint(1, 100, size=1000000)\n",
    "\n",
    "print(f\"array 1: {arr1}\")\n",
    "print(f\"array 2: {arr2}\")\n",
    "print(f\"array shape: {large_arr.shape}\")\n",
    "print(f\"array sample (first 10): {large_arr[:10]}\")\n"
   ]
  },
  {
   "cell_type": "markdown",
   "id": "f36f4ee3",
   "metadata": {},
   "source": [
    "### Elementwise Operations\n"
   ]
  },
  {
   "cell_type": "code",
   "execution_count": 2,
   "id": "ce833bd0",
   "metadata": {},
   "outputs": [
    {
     "name": "stdout",
     "output_type": "stream",
     "text": [
      "=== ELEMENTWISE OPERATIONS ===\n",
      "\n",
      "1. Basic Arithmetic:\n",
      "arr1 + arr2 = [11 22 33 44 55]\n",
      "arr1 * arr2 = [ 10  40  90 160 250]\n",
      "arr1 ** 2 = [ 1  4  9 16 25]\n",
      "arr2 / 2 = [ 5. 10. 15. 20. 25.]\n",
      "\n",
      "2. Mathematical Functions:\n",
      "sqrt(arr1) = [1.         1.41421356 1.73205081 2.         2.23606798]\n",
      "exp(arr1) = [  2.71828183   7.3890561   20.08553692  54.59815003 148.4131591 ]\n",
      "log(arr2) = [2.30258509 2.99573227 3.40119738 3.68887945 3.91202301]\n",
      "sin(arr1) = [ 0.84147098  0.90929743  0.14112001 -0.7568025  -0.95892427]\n",
      "\n",
      "3. Boolean Operations:\n",
      "arr1 > 3: [False False False  True  True]\n",
      "arr2 == 30: [False False  True False False]\n",
      "Elements in arr1 > 3: [4 5]\n"
     ]
    }
   ],
   "source": [
    "\n",
    "print(\"=== ELEMENTWISE OPERATIONS ===\")\n",
    "\n",
    "\n",
    "print(\"\\n1. Basic Arithmetic:\")\n",
    "print(f\"arr1 + arr2 = {arr1 + arr2}\")\n",
    "print(f\"arr1 * arr2 = {arr1 * arr2}\")\n",
    "print(f\"arr1 ** 2 = {arr1 ** 2}\")\n",
    "print(f\"arr2 / 2 = {arr2 / 2}\")\n",
    "\n",
    "print(\"\\n2. Mathematical Functions:\")\n",
    "print(f\"sqrt(arr1) = {np.sqrt(arr1)}\")\n",
    "print(f\"exp(arr1) = {np.exp(arr1)}\")\n",
    "print(f\"log(arr2) = {np.log(arr2)}\")\n",
    "print(f\"sin(arr1) = {np.sin(arr1)}\")\n",
    "\n",
    "print(\"\\n3. Boolean Operations:\")\n",
    "print(f\"arr1 > 3: {arr1 > 3}\")\n",
    "print(f\"arr2 == 30: {arr2 == 30}\")\n",
    "print(f\"Elements in arr1 > 3: {arr1[arr1 > 3]}\")\n"
   ]
  },
  {
   "cell_type": "markdown",
   "id": "810af338",
   "metadata": {},
   "source": [
    "### Performance Comparison: Loop vs Vectorized Operations\n"
   ]
  },
  {
   "cell_type": "code",
   "execution_count": null,
   "id": "7d66224c",
   "metadata": {},
   "outputs": [
    {
     "name": "stdout",
     "output_type": "stream",
     "text": [
      "=== PERFORMANCE COMPARISON ===\n",
      "Array size: 100,000 elements\n",
      "\n"
     ]
    }
   ],
   "source": [
    "\n",
    "def square_with_loop(arr):\n",
    "    result = []\n",
    "    for element in arr:\n",
    "        result.append(element ** 2)\n",
    "    return result\n",
    "\n",
    "def square_with_comprehension(arr):\n",
    "    return [x ** 2 for x in arr]\n",
    "\n",
    "# Test array\n",
    "test_array = np.random.randint(1, 100, size=100000)\n",
    "\n",
    "print(\"=== PERFORMANCE COMPARISON ===\")\n",
    "print(f\"Array size: {len(test_array):,} elements\")\n",
    "print()"
   ]
  },
  {
   "cell_type": "code",
   "execution_count": 4,
   "id": "73897510",
   "metadata": {},
   "outputs": [
    {
     "name": "stdout",
     "output_type": "stream",
     "text": [
      "1. Python Loop Method:\n",
      "   Time taken: 0.0442 seconds\n",
      "\n",
      "2. List Comprehension Method:\n",
      "   Time taken: 0.0202 seconds\n",
      "\n",
      "3. NumPy Vectorized Method:\n",
      "   Time taken: 0.0010 seconds\n"
     ]
    }
   ],
   "source": [
    "# Method 1: Python loop\n",
    "print(\"1. Python Loop Method:\")\n",
    "start_time = time.time()\n",
    "result_loop = square_with_loop(test_array)\n",
    "loop_time = time.time() - start_time\n",
    "print(f\"   Time taken: {loop_time:.4f} seconds\")\n",
    "\n",
    "# Method 2: List comprehension\n",
    "print(\"\\n2. List Comprehension Method:\")\n",
    "start_time = time.time()\n",
    "result_comprehension = square_with_comprehension(test_array)\n",
    "comprehension_time = time.time() - start_time\n",
    "print(f\"   Time taken: {comprehension_time:.4f} seconds\")\n",
    "\n",
    "# Method 3: NumPy vectorized operation\n",
    "print(\"\\n3. NumPy Vectorized Method:\")\n",
    "start_time = time.time()\n",
    "result_numpy = test_array ** 2\n",
    "numpy_time = time.time() - start_time\n",
    "print(f\"   Time taken: {numpy_time:.4f} seconds\")"
   ]
  },
  {
   "cell_type": "code",
   "execution_count": null,
   "id": "0995ce7d",
   "metadata": {},
   "outputs": [],
   "source": []
  }
 ],
 "metadata": {
  "kernelspec": {
   "display_name": "base",
   "language": "python",
   "name": "python3"
  },
  "language_info": {
   "codemirror_mode": {
    "name": "ipython",
    "version": 3
   },
   "file_extension": ".py",
   "mimetype": "text/x-python",
   "name": "python",
   "nbconvert_exporter": "python",
   "pygments_lexer": "ipython3",
   "version": "3.11.5"
  }
 },
 "nbformat": 4,
 "nbformat_minor": 5
}
