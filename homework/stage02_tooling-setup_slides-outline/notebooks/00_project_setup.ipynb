{
 "cells": [
  {
   "cell_type": "markdown",
   "id": "d9d3587d",
   "metadata": {},
   "source": [
    "# Environment & Config Check\n"
   ]
  },
  {
   "cell_type": "code",
   "execution_count": 1,
   "id": "d1f0f167",
   "metadata": {},
   "outputs": [
    {
     "name": "stdout",
     "output_type": "stream",
     "text": [
      "✓ API_KEY found in environment variables\n",
      "API_KEY length: 13 characters\n"
     ]
    }
   ],
   "source": [
    "import os\n",
    "from dotenv import load_dotenv\n",
    "\n",
    "# Load environment variables from .env file\n",
    "load_dotenv()\n",
    "\n",
    "# Check if API_KEY exists\n",
    "api_key = os.getenv('API_KEY')\n",
    "if api_key:\n",
    "    print(\"✓ API_KEY found in environment variables\")\n",
    "    print(f\"API_KEY length: {len(api_key)} characters\")\n",
    "else:\n",
    "    print(\"✗ API_KEY not found in environment variables\")\n",
    "    print(\"Make sure to create a .env file with your API_KEY\")\n"
   ]
  },
  {
   "cell_type": "code",
   "execution_count": 2,
   "id": "a1247b44",
   "metadata": {},
   "outputs": [
    {
     "name": "stdout",
     "output_type": "stream",
     "text": [
      "Testing numpy installation...\n",
      "Original array: [1 2 3 4 5]\n",
      "Array squared: [ 1  4  9 16 25]\n",
      "Array sum: 15\n",
      "Array mean: 3.0\n",
      "✓ Numpy is working correctly!\n",
      "Numpy version: 1.24.3\n"
     ]
    }
   ],
   "source": [
    "import numpy as np\n",
    "\n",
    "# Test numpy installation with a small array operation\n",
    "print(\"Testing numpy installation...\")\n",
    "arr = np.array([1, 2, 3, 4, 5])\n",
    "print(f\"Original array: {arr}\")\n",
    "print(f\"Array squared: {arr ** 2}\")\n",
    "print(f\"Array sum: {np.sum(arr)}\")\n",
    "print(f\"Array mean: {np.mean(arr)}\")\n",
    "print(f\"✓ Numpy is working correctly!\")\n",
    "print(f\"Numpy version: {np.__version__}\")\n"
   ]
  }
 ],
 "metadata": {
  "kernelspec": {
   "display_name": "base",
   "language": "python",
   "name": "python3"
  },
  "language_info": {
   "codemirror_mode": {
    "name": "ipython",
    "version": 3
   },
   "file_extension": ".py",
   "mimetype": "text/x-python",
   "name": "python",
   "nbconvert_exporter": "python",
   "pygments_lexer": "ipython3",
   "version": "3.11.5"
  }
 },
 "nbformat": 4,
 "nbformat_minor": 5
}
