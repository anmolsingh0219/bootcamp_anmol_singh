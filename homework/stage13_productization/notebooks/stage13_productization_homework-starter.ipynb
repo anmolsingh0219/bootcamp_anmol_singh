{
 "cells": [
  {
   "cell_type": "markdown",
   "metadata": {},
   "source": [
    "# Stage 13 Homework Starter — Productization\n",
    "\n",
    "## Objective\n",
    "Deploy your trained model as a **reusable, handoff-ready API or dashboard** and finalize your project for reproducibility and clarity."
   ]
  },
  {
   "cell_type": "markdown",
   "id": "8e003adc",
   "metadata": {},
   "source": [
    "## 1. Create mock, very basic analysis"
   ]
  },
  {
   "cell_type": "code",
   "execution_count": 2,
   "id": "88fadda7",
   "metadata": {},
   "outputs": [
    {
     "name": "stdout",
     "output_type": "stream",
     "text": [
      "Final dataset: 496 samples, 3 features\n",
      "Target range: $0.01 - $495.83\n"
     ]
    }
   ],
   "source": [
    "import pandas as pd\n",
    "import numpy as np\n",
    "from sklearn.linear_model import LinearRegression\n",
    "from sklearn.model_selection import train_test_split\n",
    "from sklearn.metrics import mean_absolute_error, r2_score\n",
    "import pickle\n",
    "import os\n",
    "import sys\n",
    "\n",
    "# Add src to path to import utils\n",
    "sys.path.append('../src')\n",
    "from utils import validate_inputs, calculate_confidence_interval, preprocess_features\n",
    "\n",
    "# Load the options data from previous stages\n",
    "data_path = '../data/options_data_20250823_163952.csv'\n",
    "df = pd.read_csv(data_path)\n",
    "\n",
    "# Use utils function to preprocess features\n",
    "df['moneyness'] = df['underlying_price'] / df['strike']\n",
    "df['vol_time'] = df['implied_volatility'] * df['time_to_expiry']\n",
    "\n",
    "# Handle missing values (use drop missing strategy - best from Stage 11)\n",
    "features = ['implied_volatility', 'moneyness', 'vol_time']\n",
    "target = 'market_price'\n",
    "clean_df = df[features + [target]].dropna()\n",
    "\n",
    "X = clean_df[features]\n",
    "y = clean_df[target]\n",
    "\n",
    "print(f\"Final dataset: {X.shape[0]} samples, {X.shape[1]} features\")\n",
    "print(f\"Target range: ${y.min():.2f} - ${y.max():.2f}\")"
   ]
  },
  {
   "cell_type": "markdown",
   "metadata": {},
   "source": [
    "## Model Training\n"
   ]
  },
  {
   "cell_type": "code",
   "execution_count": 3,
   "metadata": {},
   "outputs": [
    {
     "name": "stdout",
     "output_type": "stream",
     "text": [
      "Model Performance:\n",
      "MAE: $66.84\n",
      "R²: 0.344\n",
      "Features: ['implied_volatility', 'moneyness', 'vol_time']\n",
      "✓ Test inputs passed validation\n"
     ]
    }
   ],
   "source": [
    "# Train final model using best scenario from Stage 11\n",
    "X_train, X_test, y_train, y_test = train_test_split(X, y, test_size=0.2, random_state=42)\n",
    "\n",
    "# Train model\n",
    "model = LinearRegression()\n",
    "model.fit(X_train, y_train)\n",
    "\n",
    "# Evaluate\n",
    "y_pred = model.predict(X_test)\n",
    "mae = mean_absolute_error(y_test, y_pred)\n",
    "r2 = r2_score(y_test, y_pred)\n",
    "\n",
    "print(f\"Model Performance:\")\n",
    "print(f\"MAE: ${mae:.2f}\")\n",
    "print(f\"R²: {r2:.3f}\")\n",
    "print(f\"Features: {features}\")\n",
    "\n",
    "# Test utils validation function\n",
    "test_vol, test_moneyness, test_vol_time = 0.25, 1.05, 0.05\n",
    "validation_errors = validate_inputs(test_vol, test_moneyness, test_vol_time)\n",
    "if validation_errors:\n",
    "    print(f\"Validation errors: {validation_errors}\")\n",
    "else:\n",
    "    print(\"✓ Test inputs passed validation\")"
   ]
  },
  {
   "cell_type": "markdown",
   "metadata": {},
   "source": [
    "## Pickle / Save Final Model"
   ]
  },
  {
   "cell_type": "code",
   "execution_count": 4,
   "metadata": {},
   "outputs": [
    {
     "name": "stdout",
     "output_type": "stream",
     "text": [
      "Test prediction: $33.39\n",
      "95% CI: $-97.61 - $164.40\n",
      "Model loaded successfully with 3 features\n"
     ]
    },
    {
     "name": "stderr",
     "output_type": "stream",
     "text": [
      "c:\\Users\\papne\\OneDrive\\Desktop\\FRE\\Bootcamp 4\\nyu_frebootcamp\\projects\\project\\Lib\\site-packages\\sklearn\\utils\\validation.py:2749: UserWarning: X does not have valid feature names, but LinearRegression was fitted with feature names\n",
      "  warnings.warn(\n"
     ]
    }
   ],
   "source": [
    "# Ensure model directory exists\n",
    "os.makedirs('../model', exist_ok=True)\n",
    "\n",
    "# Save model and metadata\n",
    "model_data = {\n",
    "    'model': model,\n",
    "    'features': features,\n",
    "    'mae': mae,\n",
    "    'r2': r2,\n",
    "    'n_samples': len(X)\n",
    "}\n",
    "\n",
    "with open('../model/options_pricing_model.pkl', 'wb') as f:\n",
    "    pickle.dump(model_data, f)\n",
    "\n",
    "# Test loading and prediction using utils\n",
    "with open('../model/options_pricing_model.pkl', 'rb') as f:\n",
    "    loaded_data = pickle.load(f)\n",
    "    loaded_model = loaded_data['model']\n",
    "\n",
    "# Test prediction with confidence interval using utils\n",
    "test_features = [0.25, 1.05, 0.05]  # implied_vol, moneyness, vol_time\n",
    "test_pred = loaded_model.predict([test_features])[0]\n",
    "\n",
    "# Use utils function for confidence interval\n",
    "confidence_result = calculate_confidence_interval(test_pred, mae)\n",
    "\n",
    "print(f\"Test prediction: ${test_pred:.2f}\")\n",
    "print(f\"95% CI: ${confidence_result['lower_bound']:.2f} - ${confidence_result['upper_bound']:.2f}\")\n",
    "print(f\"Model loaded successfully with {len(loaded_data['features'])} features\")"
   ]
  },
  {
   "cell_type": "markdown",
   "metadata": {},
   "source": [
    "## Flask API Starter"
   ]
  },
  {
   "cell_type": "code",
   "execution_count": 7,
   "metadata": {},
   "outputs": [
    {
     "name": "stdout",
     "output_type": "stream",
     "text": [
      "Testing input validation with utils:\n",
      "Vol=0.25, Money=1.05, VolTime=0.05 → ✓ VALID\n",
      "Vol=0.25, Money=1.05, VolTime=0.6 → ✗ INVALID: Vol-time interaction must be between 0.0 and 0.5\n",
      "Vol=3.0, Money=1.05, VolTime=0.05 → ✗ INVALID: Implied volatility must be between 0.1 and 2.0\n",
      "Vol=0.25, Money=0.3, VolTime=0.05 → ✗ INVALID: Moneyness must be between 0.5 and 2.0\n",
      "\n",
      "Flask API Testing:\n",
      "Start the API with: python app.py\n",
      "Then uncomment the code below to test endpoints:\n",
      "✓ API prediction: {'confidence': 0.95, 'inputs': {'implied_volatility': 0.25, 'moneyness': 1.05, 'vol_time': 0.05}, 'lower_bound': -97.61306294426569, 'prediction': 33.39144756133674, 'upper_bound': 164.3959580669392}\n",
      "✗ API validation: {'details': ['Implied volatility must be between 0.1 and 2.0'], 'error': 'Validation failed'}\n",
      "✓ POST prediction: {'confidence': 0.95, 'inputs': {'implied_volatility': 0.25, 'moneyness': 1.05, 'vol_time': 0.05}, 'lower_bound': -97.61306294426569, 'prediction': 33.39144756133674, 'upper_bound': 164.3959580669392}\n"
     ]
    }
   ],
   "source": [
    "import requests\n",
    "import time\n",
    "\n",
    "# Test different input scenarios using utils functions\n",
    "test_cases = [\n",
    "    (0.25, 1.05, 0.05),  # Valid case\n",
    "    (0.25, 1.05, 0.6),   # Invalid vol_time (too high)\n",
    "    (3.0, 1.05, 0.05),   # Invalid implied_vol (too high)\n",
    "    (0.25, 0.3, 0.05),   # Invalid moneyness (too low)\n",
    "]\n",
    "\n",
    "print(\"Testing input validation with utils:\")\n",
    "for vol, money, vol_time in test_cases:\n",
    "    errors = validate_inputs(vol, money, vol_time)\n",
    "    status = \"✓ VALID\" if not errors else f\"✗ INVALID: {errors[0]}\"\n",
    "    print(f\"Vol={vol}, Money={money}, VolTime={vol_time} → {status}\")\n",
    "\n",
    "print(\"\\nFlask API Testing:\")\n",
    "print(\"Start the API with: python app.py\")\n",
    "print(\"Then uncomment the code below to test endpoints:\")\n",
    "\n",
    "# Uncomment when API is running:\n",
    "try:\n",
    "    # Test valid case\n",
    "    response = requests.get('http://127.0.0.1:5000/predict/0.25/1.05/0.05')\n",
    "    print(f\"✓ API prediction: {response.json()}\")\n",
    "    \n",
    "    # Test invalid case\n",
    "    response = requests.get('http://127.0.0.1:5000/predict/3.0/1.05/0.05')\n",
    "    print(f\"✗ API validation: {response.json()}\")\n",
    "    \n",
    "    # Test POST with utils validation\n",
    "    test_data = {'implied_volatility': 0.25, 'moneyness': 1.05, 'vol_time': 0.05}\n",
    "    response = requests.post('http://127.0.0.1:5000/predict', json=test_data)\n",
    "    print(f\"✓ POST prediction: {response.json()}\")\n",
    "except Exception as e:\n",
    "    print(f\"API not running: {e}\")"
   ]
  },
  {
   "cell_type": "code",
   "execution_count": null,
   "id": "09e149b9",
   "metadata": {},
   "outputs": [],
   "source": []
  }
 ],
 "metadata": {
  "kernelspec": {
   "display_name": "project",
   "language": "python",
   "name": "python3"
  },
  "language_info": {
   "codemirror_mode": {
    "name": "ipython",
    "version": 3
   },
   "file_extension": ".py",
   "mimetype": "text/x-python",
   "name": "python",
   "nbconvert_exporter": "python",
   "pygments_lexer": "ipython3",
   "version": "3.12.1"
  }
 },
 "nbformat": 4,
 "nbformat_minor": 5
}
