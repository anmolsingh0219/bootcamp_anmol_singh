{
 "cells": [
  {
   "cell_type": "markdown",
   "metadata": {},
   "source": [
    "# Homework Starter — Stage 05: Data Storage\n",
    "Name: Student\n",
    "Date: December 2024\n",
    "\n",
    "Objectives:\n",
    "- Env-driven paths to `data/raw/` and `data/processed/`\n",
    "- Save CSV and Parquet; reload and validate\n",
    "- Abstract IO with utility functions; document choices"
   ]
  },
  {
   "cell_type": "code",
   "execution_count": 1,
   "metadata": {},
   "outputs": [
    {
     "name": "stdout",
     "output_type": "stream",
     "text": [
      "Setting up environment-driven paths...\n",
      "RAW -> C:\\Users\\papne\\OneDrive\\Desktop\\FRE\\Bootcamp 4\\nyu_frebootcamp\\homework\\homework5\\notebooks\\data\\raw\n",
      "PROC -> C:\\Users\\papne\\OneDrive\\Desktop\\FRE\\Bootcamp 4\\nyu_frebootcamp\\homework\\homework5\\notebooks\\data\\processed\n"
     ]
    }
   ],
   "source": [
    "import os, pathlib, datetime as dt\n",
    "import pandas as pd\n",
    "from dotenv import load_dotenv\n",
    "\n",
    "print(\"Setting up environment-driven paths...\")\n",
    "load_dotenv()\n",
    "RAW = pathlib.Path(os.getenv('DATA_DIR_RAW', 'data/raw'))\n",
    "PROC = pathlib.Path(os.getenv('DATA_DIR_PROCESSED', 'data/processed'))\n",
    "RAW.mkdir(parents=True, exist_ok=True)\n",
    "PROC.mkdir(parents=True, exist_ok=True)\n",
    "print('RAW ->', RAW.resolve())\n",
    "print('PROC ->', PROC.resolve())"
   ]
  },
  {
   "cell_type": "markdown",
   "metadata": {},
   "source": [
    "## 1) Create or Load a Sample DataFrame\n",
    "You may reuse data from prior stages or create a small synthetic dataset."
   ]
  },
  {
   "cell_type": "code",
   "execution_count": 3,
   "id": "b97c6935",
   "metadata": {},
   "outputs": [
    {
     "name": "stdout",
     "output_type": "stream",
     "text": [
      "Loading real Alpha Vantage data from homework 4...\n",
      "Loaded 100 rows of AAPL stock data\n",
      "Date range: 2025-03-25 00:00:00 to 2025-08-15 00:00:00\n",
      "Columns: ['date', 'price']\n"
     ]
    },
    {
     "data": {
      "text/html": [
       "<div>\n",
       "<style scoped>\n",
       "    .dataframe tbody tr th:only-of-type {\n",
       "        vertical-align: middle;\n",
       "    }\n",
       "\n",
       "    .dataframe tbody tr th {\n",
       "        vertical-align: top;\n",
       "    }\n",
       "\n",
       "    .dataframe thead th {\n",
       "        text-align: right;\n",
       "    }\n",
       "</style>\n",
       "<table border=\"1\" class=\"dataframe\">\n",
       "  <thead>\n",
       "    <tr style=\"text-align: right;\">\n",
       "      <th></th>\n",
       "      <th>date</th>\n",
       "      <th>price</th>\n",
       "    </tr>\n",
       "  </thead>\n",
       "  <tbody>\n",
       "    <tr>\n",
       "      <th>0</th>\n",
       "      <td>2025-03-25</td>\n",
       "      <td>223.75</td>\n",
       "    </tr>\n",
       "    <tr>\n",
       "      <th>1</th>\n",
       "      <td>2025-03-26</td>\n",
       "      <td>221.53</td>\n",
       "    </tr>\n",
       "    <tr>\n",
       "      <th>2</th>\n",
       "      <td>2025-03-27</td>\n",
       "      <td>223.85</td>\n",
       "    </tr>\n",
       "    <tr>\n",
       "      <th>3</th>\n",
       "      <td>2025-03-28</td>\n",
       "      <td>217.90</td>\n",
       "    </tr>\n",
       "    <tr>\n",
       "      <th>4</th>\n",
       "      <td>2025-03-31</td>\n",
       "      <td>222.13</td>\n",
       "    </tr>\n",
       "  </tbody>\n",
       "</table>\n",
       "</div>"
      ],
      "text/plain": [
       "        date   price\n",
       "0 2025-03-25  223.75\n",
       "1 2025-03-26  221.53\n",
       "2 2025-03-27  223.85\n",
       "3 2025-03-28  217.90\n",
       "4 2025-03-31  222.13"
      ]
     },
     "execution_count": 3,
     "metadata": {},
     "output_type": "execute_result"
    }
   ],
   "source": [
    "print(\"Loading real Alpha Vantage data from homework 4...\")\n",
    "csv_file = RAW / \"api_source-alpha_symbol-AAPL_20250817-230500.csv\"\n",
    "df = pd.read_csv(csv_file, parse_dates=['date'])\n",
    "df = df.rename(columns={'adj_close': 'price'})\n",
    "print(f\"Loaded {len(df)} rows of AAPL stock data\")\n",
    "print(f\"Date range: {df['date'].min()} to {df['date'].max()}\")\n",
    "print(f\"Columns: {list(df.columns)}\")\n",
    "df.head()\n"
   ]
  },
  {
   "cell_type": "code",
   "execution_count": 4,
   "metadata": {},
   "outputs": [
    {
     "data": {
      "text/html": [
       "<div>\n",
       "<style scoped>\n",
       "    .dataframe tbody tr th:only-of-type {\n",
       "        vertical-align: middle;\n",
       "    }\n",
       "\n",
       "    .dataframe tbody tr th {\n",
       "        vertical-align: top;\n",
       "    }\n",
       "\n",
       "    .dataframe thead th {\n",
       "        text-align: right;\n",
       "    }\n",
       "</style>\n",
       "<table border=\"1\" class=\"dataframe\">\n",
       "  <thead>\n",
       "    <tr style=\"text-align: right;\">\n",
       "      <th></th>\n",
       "      <th>date</th>\n",
       "      <th>ticker</th>\n",
       "      <th>price</th>\n",
       "    </tr>\n",
       "  </thead>\n",
       "  <tbody>\n",
       "    <tr>\n",
       "      <th>0</th>\n",
       "      <td>2024-01-01</td>\n",
       "      <td>AAPL</td>\n",
       "      <td>148.713928</td>\n",
       "    </tr>\n",
       "    <tr>\n",
       "      <th>1</th>\n",
       "      <td>2024-01-02</td>\n",
       "      <td>AAPL</td>\n",
       "      <td>147.964757</td>\n",
       "    </tr>\n",
       "    <tr>\n",
       "      <th>2</th>\n",
       "      <td>2024-01-03</td>\n",
       "      <td>AAPL</td>\n",
       "      <td>147.692187</td>\n",
       "    </tr>\n",
       "    <tr>\n",
       "      <th>3</th>\n",
       "      <td>2024-01-04</td>\n",
       "      <td>AAPL</td>\n",
       "      <td>147.565747</td>\n",
       "    </tr>\n",
       "    <tr>\n",
       "      <th>4</th>\n",
       "      <td>2024-01-05</td>\n",
       "      <td>AAPL</td>\n",
       "      <td>147.704280</td>\n",
       "    </tr>\n",
       "  </tbody>\n",
       "</table>\n",
       "</div>"
      ],
      "text/plain": [
       "        date ticker       price\n",
       "0 2024-01-01   AAPL  148.713928\n",
       "1 2024-01-02   AAPL  147.964757\n",
       "2 2024-01-03   AAPL  147.692187\n",
       "3 2024-01-04   AAPL  147.565747\n",
       "4 2024-01-05   AAPL  147.704280"
      ]
     },
     "execution_count": 4,
     "metadata": {},
     "output_type": "execute_result"
    }
   ],
   "source": [
    "import numpy as np\n",
    "dates = pd.date_range('2024-01-01', periods=20, freq='D')\n",
    "df = pd.DataFrame({'date': dates, 'ticker': ['AAPL']*20, 'price': 150 + np.random.randn(20).cumsum()})\n",
    "df.head()"
   ]
  },
  {
   "cell_type": "markdown",
   "metadata": {},
   "source": [
    "## 2) Save CSV to data/raw/ and Parquet to data/processed/ (TODO)\n",
    "- Use timestamped filenames.\n",
    "- Handle missing Parquet engine gracefully."
   ]
  },
  {
   "cell_type": "code",
   "execution_count": 5,
   "id": "eecfc9d8",
   "metadata": {},
   "outputs": [
    {
     "name": "stdout",
     "output_type": "stream",
     "text": [
      "Task 1: Saving data in two formats...\n",
      "Saving CSV to data/raw/...\n",
      "✓ CSV saved: data\\raw\\aapl_stock_20250818-090532.csv\n",
      "Saving Parquet to data/processed/...\n",
      "✓ Parquet saved: data\\processed\\aapl_stock_20250818-090532.parquet\n",
      "\n",
      "Summary:\n",
      "CSV: data\\raw\\aapl_stock_20250818-090532.csv\n",
      "Parquet: data\\processed\\aapl_stock_20250818-090532.parquet\n"
     ]
    }
   ],
   "source": [
    "def ts(): return dt.datetime.now().strftime('%Y%m%d-%H%M%S')\n",
    "\n",
    "print(\"Task 1: Saving data in two formats...\")\n",
    "\n",
    "print(\"Saving CSV to data/raw/...\")\n",
    "csv_path = RAW / f\"aapl_stock_{ts()}.csv\"\n",
    "df.to_csv(csv_path, index=False)\n",
    "print(f\"✓ CSV saved: {csv_path}\")\n",
    "\n",
    "print(\"Saving Parquet to data/processed/...\")\n",
    "pq_path = PROC / f\"aapl_stock_{ts()}.parquet\"\n",
    "try:\n",
    "    df.to_parquet(pq_path)\n",
    "    print(f\"✓ Parquet saved: {pq_path}\")\n",
    "except Exception as e:\n",
    "    print(f'✗ Parquet engine not available: {e}')\n",
    "    print('Install pyarrow or fastparquet: pip install pyarrow')\n",
    "    pq_path = None\n",
    "\n",
    "print(f\"\\nSummary:\")\n",
    "print(f\"CSV: {csv_path}\")\n",
    "print(f\"Parquet: {pq_path}\")\n"
   ]
  },
  {
   "cell_type": "code",
   "execution_count": 6,
   "id": "3b49e9f6",
   "metadata": {},
   "outputs": [
    {
     "name": "stdout",
     "output_type": "stream",
     "text": [
      "Task 2: Reload and validate both formats...\n",
      "1. Loading and validating CSV...\n",
      "\n",
      "CSV Validation Results:\n",
      "  ✓ shape_equal: True\n",
      "  ✓ date_is_datetime: True\n",
      "  ✓ price_is_numeric: True\n",
      "  ✓ columns_match: True\n",
      "  ✓ row_count: 20\n",
      "\n",
      "CSV data sample:\n",
      "        date ticker       price\n",
      "0 2024-01-01   AAPL  148.713928\n",
      "1 2024-01-02   AAPL  147.964757\n",
      "2 2024-01-03   AAPL  147.692187\n",
      "3 2024-01-04   AAPL  147.565747\n",
      "4 2024-01-05   AAPL  147.704280\n"
     ]
    }
   ],
   "source": [
    "def validate_loaded(original, reloaded, format_name):\n",
    "    checks = {\n",
    "        'shape_equal': original.shape == reloaded.shape,\n",
    "        'date_is_datetime': pd.api.types.is_datetime64_any_dtype(reloaded['date']) if 'date' in reloaded.columns else False,\n",
    "        'price_is_numeric': pd.api.types.is_numeric_dtype(reloaded['price']) if 'price' in reloaded.columns else False,\n",
    "        'columns_match': list(original.columns) == list(reloaded.columns),\n",
    "        'row_count': len(reloaded)\n",
    "    }\n",
    "    print(f\"\\n{format_name} Validation Results:\")\n",
    "    for check, result in checks.items():\n",
    "        status = \"✓\" if result else \"✗\"\n",
    "        print(f\"  {status} {check}: {result}\")\n",
    "    return checks\n",
    "\n",
    "print(\"Task 2: Reload and validate both formats...\")\n",
    "\n",
    "print(\"1. Loading and validating CSV...\")\n",
    "df_csv = pd.read_csv(csv_path, parse_dates=['date'])\n",
    "csv_validation = validate_loaded(df, df_csv, \"CSV\")\n",
    "\n",
    "print(f\"\\nCSV data sample:\")\n",
    "print(df_csv.head())\n"
   ]
  },
  {
   "cell_type": "code",
   "execution_count": 7,
   "id": "c78f4b36",
   "metadata": {},
   "outputs": [
    {
     "name": "stdout",
     "output_type": "stream",
     "text": [
      "2. Loading and validating Parquet...\n",
      "\n",
      "Parquet Validation Results:\n",
      "  ✓ shape_equal: True\n",
      "  ✓ date_is_datetime: True\n",
      "  ✓ price_is_numeric: True\n",
      "  ✓ columns_match: True\n",
      "  ✓ row_count: 20\n",
      "\n",
      "Parquet data sample:\n",
      "        date ticker       price\n",
      "0 2024-01-01   AAPL  148.713928\n",
      "1 2024-01-02   AAPL  147.964757\n",
      "2 2024-01-03   AAPL  147.692187\n",
      "3 2024-01-04   AAPL  147.565747\n",
      "4 2024-01-05   AAPL  147.704280\n",
      "\n",
      "Parquet dtypes:\n",
      "date      datetime64[ns]\n",
      "ticker            object\n",
      "price            float64\n",
      "dtype: object\n"
     ]
    }
   ],
   "source": [
    "print(\"2. Loading and validating Parquet...\")\n",
    "if pq_path:\n",
    "    try:\n",
    "        df_pq = pd.read_parquet(pq_path)\n",
    "        pq_validation = validate_loaded(df, df_pq, \"Parquet\")\n",
    "        print(f\"\\nParquet data sample:\")\n",
    "        print(df_pq.head())\n",
    "        print(f\"\\nParquet dtypes:\")\n",
    "        print(df_pq.dtypes)\n",
    "    except Exception as e:\n",
    "        print(f'✗ Parquet read failed: {e}')\n",
    "        print('Install pyarrow: pip install pyarrow')\n",
    "else:\n",
    "    print(\"✗ Skipping Parquet validation - file was not created\")\n"
   ]
  },
  {
   "cell_type": "code",
   "execution_count": 8,
   "id": "8398715e",
   "metadata": {},
   "outputs": [
    {
     "name": "stdout",
     "output_type": "stream",
     "text": [
      "Task 3: Creating utility functions...\n",
      "✓ Utility functions created successfully!\n"
     ]
    }
   ],
   "source": [
    "import typing as t\n",
    "\n",
    "print(\"Task 3: Creating utility functions...\")\n",
    "\n",
    "def detect_format(path: t.Union[str, pathlib.Path]):\n",
    "    s = str(path).lower()\n",
    "    if s.endswith('.csv'): return 'csv'\n",
    "    if s.endswith('.parquet') or s.endswith('.pq') or s.endswith('.parq'): return 'parquet'\n",
    "    raise ValueError('Unsupported format: ' + s)\n",
    "\n",
    "def write_df(df: pd.DataFrame, path: t.Union[str, pathlib.Path]):\n",
    "    p = pathlib.Path(path)\n",
    "    p.parent.mkdir(parents=True, exist_ok=True)\n",
    "    fmt = detect_format(p)\n",
    "    \n",
    "    print(f\"Writing {fmt.upper()} to {p}\")\n",
    "    if fmt == 'csv':\n",
    "        df.to_csv(p, index=False)\n",
    "    else:\n",
    "        try:\n",
    "            df.to_parquet(p)\n",
    "        except Exception as e:\n",
    "            raise RuntimeError('Parquet engine not available. Install: pip install pyarrow') from e\n",
    "    return p\n",
    "\n",
    "def read_df(path: t.Union[str, pathlib.Path]):\n",
    "    p = pathlib.Path(path)\n",
    "    fmt = detect_format(p)\n",
    "    \n",
    "    print(f\"Reading {fmt.upper()} from {p}\")\n",
    "    if fmt == 'csv':\n",
    "        return pd.read_csv(p, parse_dates=['date']) if 'date' in pd.read_csv(p, nrows=0).columns else pd.read_csv(p)\n",
    "    else:\n",
    "        try:\n",
    "            return pd.read_parquet(p)\n",
    "        except Exception as e:\n",
    "            raise RuntimeError('Parquet engine not available. Install: pip install pyarrow') from e\n",
    "\n",
    "print(\"✓ Utility functions created successfully!\")\n"
   ]
  },
  {
   "cell_type": "code",
   "execution_count": 9,
   "id": "3b3442f5",
   "metadata": {},
   "outputs": [
    {
     "name": "stdout",
     "output_type": "stream",
     "text": [
      "Testing utility functions...\n",
      "\n",
      "1. Testing CSV utilities:\n",
      "Writing CSV to data\\raw\\util_test_20250818-090610.csv\n",
      "Reading CSV from data\\raw\\util_test_20250818-090610.csv\n",
      "✓ CSV test successful - shape: (20, 3)\n",
      "\n",
      "2. Testing Parquet utilities:\n",
      "Writing PARQUET to data\\processed\\util_test_20250818-090610.parquet\n",
      "Reading PARQUET from data\\processed\\util_test_20250818-090610.parquet\n",
      "✓ Parquet test successful - shape: (20, 3)\n",
      "\n",
      "✓ All utility tests completed!\n"
     ]
    }
   ],
   "source": [
    "print(\"Testing utility functions...\")\n",
    "\n",
    "print(\"\\n1. Testing CSV utilities:\")\n",
    "p_csv = RAW / f\"util_test_{ts()}.csv\"\n",
    "write_df(df, p_csv)\n",
    "df_test_csv = read_df(p_csv)\n",
    "print(f\"✓ CSV test successful - shape: {df_test_csv.shape}\")\n",
    "\n",
    "print(\"\\n2. Testing Parquet utilities:\")\n",
    "p_pq = PROC / f\"util_test_{ts()}.parquet\"\n",
    "try:\n",
    "    write_df(df, p_pq)\n",
    "    df_test_pq = read_df(p_pq)\n",
    "    print(f\"✓ Parquet test successful - shape: {df_test_pq.shape}\")\n",
    "except RuntimeError as e:\n",
    "    print(f'✗ Parquet test failed: {e}')\n",
    "\n",
    "print(\"\\n✓ All utility tests completed!\")\n"
   ]
  },
  {
   "cell_type": "code",
   "execution_count": 10,
   "metadata": {},
   "outputs": [
    {
     "data": {
      "text/plain": [
       "WindowsPath('data/processed/sample_20250818-090617.parquet')"
      ]
     },
     "execution_count": 10,
     "metadata": {},
     "output_type": "execute_result"
    }
   ],
   "source": [
    "def ts(): return dt.datetime.now().strftime('%Y%m%d-%H%M%S')\n",
    "\n",
    "# TODO: Save CSV\n",
    "csv_path = RAW / f\"sample_{ts()}.csv\"\n",
    "df.to_csv(csv_path, index=False)\n",
    "csv_path\n",
    "\n",
    "# TODO: Save Parquet\n",
    "pq_path = PROC / f\"sample_{ts()}.parquet\"\n",
    "try:\n",
    "    df.to_parquet(pq_path)\n",
    "except Exception as e:\n",
    "    print('Parquet engine not available. Install pyarrow or fastparquet to complete this step.')\n",
    "    pq_path = None\n",
    "pq_path"
   ]
  },
  {
   "cell_type": "markdown",
   "metadata": {},
   "source": [
    "## 3) Reload and Validate (TODO)\n",
    "- Compare shapes and key dtypes."
   ]
  },
  {
   "cell_type": "code",
   "execution_count": 11,
   "metadata": {},
   "outputs": [
    {
     "data": {
      "text/plain": [
       "{'shape_equal': True, 'date_is_datetime': True, 'price_is_numeric': True}"
      ]
     },
     "execution_count": 11,
     "metadata": {},
     "output_type": "execute_result"
    }
   ],
   "source": [
    "def validate_loaded(original, reloaded):\n",
    "    checks = {\n",
    "        'shape_equal': original.shape == reloaded.shape,\n",
    "        'date_is_datetime': pd.api.types.is_datetime64_any_dtype(reloaded['date']) if 'date' in reloaded.columns else False,\n",
    "        'price_is_numeric': pd.api.types.is_numeric_dtype(reloaded['price']) if 'price' in reloaded.columns else False,\n",
    "    }\n",
    "    return checks\n",
    "\n",
    "df_csv = pd.read_csv(csv_path, parse_dates=['date'])\n",
    "validate_loaded(df, df_csv)"
   ]
  },
  {
   "cell_type": "code",
   "execution_count": null,
   "metadata": {},
   "outputs": [],
   "source": [
    "if pq_path:\n",
    "    try:\n",
    "        df_pq = pd.read_parquet(pq_path)\n",
    "        validate_loaded(df, df_pq)\n",
    "    except Exception as e:\n",
    "        print('Parquet read failed:', e)"
   ]
  },
  {
   "cell_type": "markdown",
   "metadata": {},
   "source": [
    "## 4) Utilities (TODO)\n",
    "- Implement `detect_format`, `write_df`, `read_df`.\n",
    "- Use suffix to route; create parent dirs if needed; friendly errors for Parquet."
   ]
  },
  {
   "cell_type": "code",
   "execution_count": 13,
   "metadata": {},
   "outputs": [],
   "source": [
    "import typing as t, pathlib\n",
    "\n",
    "def detect_format(path: t.Union[str, pathlib.Path]):\n",
    "    s = str(path).lower()\n",
    "    if s.endswith('.csv'): return 'csv'\n",
    "    if s.endswith('.parquet') or s.endswith('.pq') or s.endswith('.parq'): return 'parquet'\n",
    "    raise ValueError('Unsupported format: ' + s)\n",
    "\n",
    "def write_df(df: pd.DataFrame, path: t.Union[str, pathlib.Path]):\n",
    "    p = pathlib.Path(path); p.parent.mkdir(parents=True, exist_ok=True)\n",
    "    fmt = detect_format(p)\n",
    "    if fmt == 'csv':\n",
    "        df.to_csv(p, index=False)\n",
    "    else:\n",
    "        try:\n",
    "            df.to_parquet(p)\n",
    "        except Exception as e:\n",
    "            raise RuntimeError('Parquet engine not available. Install pyarrow or fastparquet.') from e\n",
    "    return p\n",
    "\n",
    "def read_df(path: t.Union[str, pathlib.Path]):\n",
    "    p = pathlib.Path(path)\n",
    "    fmt = detect_format(p)\n",
    "    if fmt == 'csv':\n",
    "        return pd.read_csv(p, parse_dates=['date']) if 'date' in pd.read_csv(p, nrows=0).columns else pd.read_csv(p)\n",
    "    else:\n",
    "        try:\n",
    "            return pd.read_parquet(p)\n",
    "        except Exception as e:\n",
    "            raise RuntimeError('Parquet engine not available. Install pyarrow or fastparquet.') from e\n",
    "\n",
    "# Demo\n",
    "p_csv = RAW / f\"util_{ts()}.csv\"\n",
    "p_pq  = PROC / f\"util_{ts()}.parquet\"\n",
    "write_df(df, p_csv); read_df(p_csv).head()\n",
    "try:\n",
    "    write_df(df, p_pq)\n",
    "    read_df(p_pq).head()\n",
    "except RuntimeError as e:\n",
    "    print('Skipping Parquet util demo:', e)"
   ]
  },
  {
   "cell_type": "markdown",
   "metadata": {},
   "source": [
    "## 5) Documentation (TODO)\n",
    "- Update README with a **Data Storage** section (folders, formats, env usage).\n",
    "- Summarize validation checks and any assumptions."
   ]
  }
 ],
 "metadata": {
  "kernelspec": {
   "display_name": "base",
   "language": "python",
   "name": "python3"
  },
  "language_info": {
   "codemirror_mode": {
    "name": "ipython",
    "version": 3
   },
   "file_extension": ".py",
   "mimetype": "text/x-python",
   "name": "python",
   "nbconvert_exporter": "python",
   "pygments_lexer": "ipython3",
   "version": "3.11.5"
  }
 },
 "nbformat": 4,
 "nbformat_minor": 5
}
