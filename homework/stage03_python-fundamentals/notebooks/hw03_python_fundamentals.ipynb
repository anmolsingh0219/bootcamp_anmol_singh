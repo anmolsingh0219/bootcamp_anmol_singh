{
 "cells": [
  {
   "cell_type": "markdown",
   "id": "511dba82",
   "metadata": {},
   "source": [
    "# Homework 3: Python Fundamentals\n",
    "\n",
    "## 1. NumPy Operations\n"
   ]
  },
  {
   "cell_type": "code",
   "execution_count": 1,
   "id": "85e1646d",
   "metadata": {},
   "outputs": [
    {
     "name": "stdout",
     "output_type": "stream",
     "text": [
      "NumPy arrays\n",
      "array 1: [1 2 3 4 5]\n",
      "array 2: [10 20 30 40 50]\n",
      "array shape: (1000000,)\n",
      "array sample (first 10): [59 52 39 77 36 56  3 42 80 52]\n"
     ]
    }
   ],
   "source": [
    "import numpy as np\n",
    "import time\n",
    "\n",
    "print(\"NumPy arrays\")\n",
    "arr1 = np.array([1, 2, 3, 4, 5])\n",
    "arr2 = np.array([10, 20, 30, 40, 50])\n",
    "large_arr = np.random.randint(1, 100, size=1000000)\n",
    "\n",
    "print(f\"array 1: {arr1}\")\n",
    "print(f\"array 2: {arr2}\")\n",
    "print(f\"array shape: {large_arr.shape}\")\n",
    "print(f\"array sample (first 10): {large_arr[:10]}\")\n"
   ]
  },
  {
   "cell_type": "markdown",
   "id": "f36f4ee3",
   "metadata": {},
   "source": [
    "### Elementwise Operations\n"
   ]
  },
  {
   "cell_type": "code",
   "execution_count": 2,
   "id": "ce833bd0",
   "metadata": {},
   "outputs": [
    {
     "name": "stdout",
     "output_type": "stream",
     "text": [
      "=== ELEMENTWISE OPERATIONS ===\n",
      "\n",
      "1. Basic Arithmetic:\n",
      "arr1 + arr2 = [11 22 33 44 55]\n",
      "arr1 * arr2 = [ 10  40  90 160 250]\n",
      "arr1 ** 2 = [ 1  4  9 16 25]\n",
      "arr2 / 2 = [ 5. 10. 15. 20. 25.]\n",
      "\n",
      "2. Mathematical Functions:\n",
      "sqrt(arr1) = [1.         1.41421356 1.73205081 2.         2.23606798]\n",
      "exp(arr1) = [  2.71828183   7.3890561   20.08553692  54.59815003 148.4131591 ]\n",
      "log(arr2) = [2.30258509 2.99573227 3.40119738 3.68887945 3.91202301]\n",
      "sin(arr1) = [ 0.84147098  0.90929743  0.14112001 -0.7568025  -0.95892427]\n",
      "\n",
      "3. Boolean Operations:\n",
      "arr1 > 3: [False False False  True  True]\n",
      "arr2 == 30: [False False  True False False]\n",
      "Elements in arr1 > 3: [4 5]\n"
     ]
    }
   ],
   "source": [
    "\n",
    "print(\"=== ELEMENTWISE OPERATIONS ===\")\n",
    "\n",
    "\n",
    "print(\"\\n1. Basic Arithmetic:\")\n",
    "print(f\"arr1 + arr2 = {arr1 + arr2}\")\n",
    "print(f\"arr1 * arr2 = {arr1 * arr2}\")\n",
    "print(f\"arr1 ** 2 = {arr1 ** 2}\")\n",
    "print(f\"arr2 / 2 = {arr2 / 2}\")\n",
    "\n",
    "print(\"\\n2. Mathematical Functions:\")\n",
    "print(f\"sqrt(arr1) = {np.sqrt(arr1)}\")\n",
    "print(f\"exp(arr1) = {np.exp(arr1)}\")\n",
    "print(f\"log(arr2) = {np.log(arr2)}\")\n",
    "print(f\"sin(arr1) = {np.sin(arr1)}\")\n",
    "\n",
    "print(\"\\n3. Boolean Operations:\")\n",
    "print(f\"arr1 > 3: {arr1 > 3}\")\n",
    "print(f\"arr2 == 30: {arr2 == 30}\")\n",
    "print(f\"Elements in arr1 > 3: {arr1[arr1 > 3]}\")\n"
   ]
  },
  {
   "cell_type": "markdown",
   "id": "810af338",
   "metadata": {},
   "source": [
    "### Performance Comparison: Loop vs Vectorized Operations\n"
   ]
  },
  {
   "cell_type": "code",
   "execution_count": null,
   "id": "7d66224c",
   "metadata": {},
   "outputs": [
    {
     "name": "stdout",
     "output_type": "stream",
     "text": [
      "=== PERFORMANCE COMPARISON ===\n",
      "Array size: 100,000 elements\n",
      "\n"
     ]
    }
   ],
   "source": [
    "\n",
    "def square_with_loop(arr):\n",
    "    result = []\n",
    "    for element in arr:\n",
    "        result.append(element ** 2)\n",
    "    return result\n",
    "\n",
    "def square_with_comprehension(arr):\n",
    "    return [x ** 2 for x in arr]\n",
    "\n",
    "# Test array\n",
    "test_array = np.random.randint(1, 100, size=100000)\n",
    "\n",
    "print(\"=== PERFORMANCE COMPARISON ===\")\n",
    "print(f\"Array size: {len(test_array):,} elements\")\n",
    "print()"
   ]
  },
  {
   "cell_type": "code",
   "execution_count": 4,
   "id": "73897510",
   "metadata": {},
   "outputs": [
    {
     "name": "stdout",
     "output_type": "stream",
     "text": [
      "1. Python Loop Method:\n",
      "   Time taken: 0.0442 seconds\n",
      "\n",
      "2. List Comprehension Method:\n",
      "   Time taken: 0.0202 seconds\n",
      "\n",
      "3. NumPy Vectorized Method:\n",
      "   Time taken: 0.0010 seconds\n"
     ]
    }
   ],
   "source": [
    "# Method 1: Python loop\n",
    "print(\"1. Python Loop Method:\")\n",
    "start_time = time.time()\n",
    "result_loop = square_with_loop(test_array)\n",
    "loop_time = time.time() - start_time\n",
    "print(f\"   Time taken: {loop_time:.4f} seconds\")\n",
    "\n",
    "# Method 2: List comprehension\n",
    "print(\"\\n2. List Comprehension Method:\")\n",
    "start_time = time.time()\n",
    "result_comprehension = square_with_comprehension(test_array)\n",
    "comprehension_time = time.time() - start_time\n",
    "print(f\"   Time taken: {comprehension_time:.4f} seconds\")\n",
    "\n",
    "# Method 3: NumPy vectorized operation\n",
    "print(\"\\n3. NumPy Vectorized Method:\")\n",
    "start_time = time.time()\n",
    "result_numpy = test_array ** 2\n",
    "numpy_time = time.time() - start_time\n",
    "print(f\"   Time taken: {numpy_time:.4f} seconds\")"
   ]
  },
  {
   "cell_type": "code",
   "execution_count": 5,
   "id": "0995ce7d",
   "metadata": {},
   "outputs": [
    {
     "name": "stdout",
     "output_type": "stream",
     "text": [
      "Dataset Info:\n",
      "<class 'pandas.core.frame.DataFrame'>\n",
      "RangeIndex: 10 entries, 0 to 9\n",
      "Data columns (total 3 columns):\n",
      " #   Column    Non-Null Count  Dtype \n",
      "---  ------    --------------  ----- \n",
      " 0   category  10 non-null     object\n",
      " 1   value     10 non-null     int64 \n",
      " 2   date      10 non-null     object\n",
      "dtypes: int64(1), object(2)\n",
      "memory usage: 372.0+ bytes\n",
      "\n",
      "First 5 rows:\n",
      "  category  value        date\n",
      "0        A     10  2025-08-01\n",
      "1        B     15  2025-08-02\n",
      "2        A     12  2025-08-03\n",
      "3        B     18  2025-08-04\n",
      "4        C     25  2025-08-05\n"
     ]
    }
   ],
   "source": [
    "import pandas as pd\n",
    "\n",
    "\n",
    "df = pd.read_csv('../data/starter_data.csv')\n",
    "\n",
    "print(\"Dataset Info:\")\n",
    "df.info()\n",
    "print(\"\\nFirst 5 rows:\")\n",
    "print(df.head())"
   ]
  },
  {
   "cell_type": "code",
   "execution_count": 6,
   "id": "547c9c24",
   "metadata": {},
   "outputs": [
    {
     "name": "stdout",
     "output_type": "stream",
     "text": [
      "Summary Statistics:\n",
      "           value\n",
      "count  10.000000\n",
      "mean   17.600000\n",
      "std     7.381659\n",
      "min    10.000000\n",
      "25%    12.250000\n",
      "50%    14.500000\n",
      "75%    23.250000\n",
      "max    30.000000\n"
     ]
    }
   ],
   "source": [
    "print(\"Summary Statistics:\")\n",
    "print(df.describe())"
   ]
  },
  {
   "cell_type": "code",
   "execution_count": 7,
   "id": "75808122",
   "metadata": {},
   "outputs": [
    {
     "name": "stdout",
     "output_type": "stream",
     "text": [
      "Grouped by Category:\n",
      "          count       mean       std  min  max\n",
      "category                                      \n",
      "A             4  11.500000  1.290994   10   13\n",
      "B             3  15.666667  2.081666   14   18\n",
      "C             3  27.666667  2.516611   25   30\n"
     ]
    }
   ],
   "source": [
    "print(\"Grouped by Category:\")\n",
    "category_stats = df.groupby('category')['value'].agg(['count', 'mean', 'std', 'min', 'max'])\n",
    "print(category_stats)"
   ]
  },
  {
   "cell_type": "code",
   "execution_count": 8,
   "id": "6e79800c",
   "metadata": {},
   "outputs": [
    {
     "name": "stdout",
     "output_type": "stream",
     "text": [
      "Summary statistics saved to data/processed/summary.csv\n"
     ]
    }
   ],
   "source": [
    "category_stats.to_csv('../data/processed/summary.csv')\n",
    "print(\"Summary statistics saved to data/processed/summary.csv\")"
   ]
  },
  {
   "cell_type": "code",
   "execution_count": 9,
   "id": "0d18f0f4",
   "metadata": {},
   "outputs": [
    {
     "name": "stderr",
     "output_type": "stream",
     "text": [
      "Matplotlib is building the font cache; this may take a moment.\n"
     ]
    },
    {
     "data": {
      "image/png": "[encoded data removed]",
      "text/plain": [
       "<Figure size 800x600 with 1 Axes>"
      ]
     },
     "metadata": {},
     "output_type": "display_data"
    },
    {
     "name": "stdout",
     "output_type": "stream",
     "text": [
      "Plot saved to data/processed/category_plot.png\n"
     ]
    }
   ],
   "source": [
    "import matplotlib.pyplot as plt\n",
    "\n",
    "plt.figure(figsize=(8, 6))\n",
    "category_stats['mean'].plot(kind='bar')\n",
    "plt.title('Average Value by Category')\n",
    "plt.xlabel('Category')\n",
    "plt.ylabel('Average Value')\n",
    "plt.xticks(rotation=45)\n",
    "plt.tight_layout()\n",
    "plt.savefig('../data/processed/category_plot.png')\n",
    "plt.show()\n",
    "print(\"Plot saved to data/processed/category_plot.png\")"
   ]
  },
  {
   "cell_type": "code",
   "execution_count": 10,
   "id": "7e588055",
   "metadata": {},
   "outputs": [
    {
     "name": "stdout",
     "output_type": "stream",
     "text": [
      "Using utility function from utils.py:\n",
      "          count       mean       std  min  max\n",
      "category                                      \n",
      "A             4  11.500000  1.290994   10   13\n",
      "B             3  15.666667  2.081666   14   18\n",
      "C             3  27.666667  2.516611   25   30\n"
     ]
    }
   ],
   "source": [
    "import sys\n",
    "sys.path.append('../src')\n",
    "from utils import get_summary_stats\n",
    "\n",
    "print(\"Using utility function from utils.py:\")\n",
    "summary = get_summary_stats(df, 'category', 'value')\n",
    "print(summary)"
   ]
  },
  {
   "cell_type": "code",
   "execution_count": null,
   "id": "216f23d1",
   "metadata": {},
   "outputs": [],
   "source": []
  }
 ],
 "metadata": {
  "kernelspec": {
   "display_name": "base",
   "language": "python",
   "name": "python3"
  },
  "language_info": {
   "codemirror_mode": {
    "name": "ipython",
    "version": 3
   },
   "file_extension": ".py",
   "mimetype": "text/x-python",
   "name": "python",
   "nbconvert_exporter": "python",
   "pygments_lexer": "ipython3",
   "version": "3.11.5"
  }
 },
 "nbformat": 4,
 "nbformat_minor": 5
}
