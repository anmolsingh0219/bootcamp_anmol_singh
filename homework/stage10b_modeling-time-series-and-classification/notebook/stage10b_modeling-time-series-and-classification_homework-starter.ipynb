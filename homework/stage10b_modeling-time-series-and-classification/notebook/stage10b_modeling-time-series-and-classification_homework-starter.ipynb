{
 "cells": [
  {
   "cell_type": "markdown",
   "metadata": {},
   "source": [
    "# Homework Starter — Stage 10b: Time Series & Classification"
   ]
  },
  {
   "cell_type": "code",
   "execution_count": 1,
   "metadata": {},
   "outputs": [],
   "source": [
    "# Imports\n",
    "import numpy as np, pandas as pd\n",
    "import matplotlib.pyplot as plt\n",
    "import seaborn as sns\n",
    "from sklearn.pipeline import Pipeline, make_pipeline\n",
    "from sklearn.preprocessing import StandardScaler\n",
    "from sklearn.linear_model import LinearRegression, LogisticRegression\n",
    "from sklearn.tree import DecisionTreeClassifier\n",
    "from sklearn.metrics import mean_absolute_error, mean_squared_error, classification_report, confusion_matrix\n",
    "from sklearn.model_selection import train_test_split, TimeSeriesSplit\n",
    "np.random.seed(7); sns.set(); plt.rcParams['figure.figsize']=(9,4)"
   ]
  },
  {
   "cell_type": "markdown",
   "metadata": {},
   "source": [
    "## Option A: Own Data"
   ]
  },
  {
   "cell_type": "code",
   "execution_count": 3,
   "metadata": {},
   "outputs": [
    {
     "name": "stdout",
     "output_type": "stream",
     "text": [
      "Dataset Overview:\n",
      "Shape: (496, 18)\n",
      "\n",
      "Columns: ['symbol', 'underlying_symbol', 'strike', 'expiration_date', 'contract_type', 'implied_volatility', 'open_interest', 'volume', 'bid', 'ask', 'last_price', 'market_price', 'underlying_price', 'risk_free_rate', 'fetch_timestamp', 'time_to_expiry', 'data_source', 'simulated_trade_date']\n",
      "\n",
      "First few rows:\n"
     ]
    },
    {
     "data": {
      "text/html": [
       "<div>\n",
       "<style scoped>\n",
       "    .dataframe tbody tr th:only-of-type {\n",
       "        vertical-align: middle;\n",
       "    }\n",
       "\n",
       "    .dataframe tbody tr th {\n",
       "        vertical-align: top;\n",
       "    }\n",
       "\n",
       "    .dataframe thead th {\n",
       "        text-align: right;\n",
       "    }\n",
       "</style>\n",
       "<table border=\"1\" class=\"dataframe\">\n",
       "  <thead>\n",
       "    <tr style=\"text-align: right;\">\n",
       "      <th></th>\n",
       "      <th>symbol</th>\n",
       "      <th>underlying_symbol</th>\n",
       "      <th>strike</th>\n",
       "      <th>expiration_date</th>\n",
       "      <th>contract_type</th>\n",
       "      <th>implied_volatility</th>\n",
       "      <th>open_interest</th>\n",
       "      <th>volume</th>\n",
       "      <th>bid</th>\n",
       "      <th>ask</th>\n",
       "      <th>last_price</th>\n",
       "      <th>market_price</th>\n",
       "      <th>underlying_price</th>\n",
       "      <th>risk_free_rate</th>\n",
       "      <th>fetch_timestamp</th>\n",
       "      <th>time_to_expiry</th>\n",
       "      <th>data_source</th>\n",
       "      <th>simulated_trade_date</th>\n",
       "    </tr>\n",
       "  </thead>\n",
       "  <tbody>\n",
       "    <tr>\n",
       "      <th>0</th>\n",
       "      <td>SPY20250825C00530000</td>\n",
       "      <td>SPY</td>\n",
       "      <td>530.0</td>\n",
       "      <td>2025-08-25</td>\n",
       "      <td>call</td>\n",
       "      <td>0.841798</td>\n",
       "      <td>11.0</td>\n",
       "      <td>11.0</td>\n",
       "      <td>113.98</td>\n",
       "      <td>116.78</td>\n",
       "      <td>106.25</td>\n",
       "      <td>115.380</td>\n",
       "      <td>645.309998</td>\n",
       "      <td>0.04088</td>\n",
       "      <td>2025-08-23 16:39:40.712793</td>\n",
       "      <td>0.00274</td>\n",
       "      <td>yahoo_finance</td>\n",
       "      <td>2025-08-22 16:39:41.671421</td>\n",
       "    </tr>\n",
       "    <tr>\n",
       "      <th>1</th>\n",
       "      <td>SPY20250825C00550000</td>\n",
       "      <td>SPY</td>\n",
       "      <td>550.0</td>\n",
       "      <td>2025-08-25</td>\n",
       "      <td>call</td>\n",
       "      <td>0.703128</td>\n",
       "      <td>2.0</td>\n",
       "      <td>2.0</td>\n",
       "      <td>93.98</td>\n",
       "      <td>96.79</td>\n",
       "      <td>96.12</td>\n",
       "      <td>95.385</td>\n",
       "      <td>645.309998</td>\n",
       "      <td>0.04088</td>\n",
       "      <td>2025-08-23 16:39:40.712793</td>\n",
       "      <td>0.00274</td>\n",
       "      <td>yahoo_finance</td>\n",
       "      <td>2025-08-22 16:39:41.671421</td>\n",
       "    </tr>\n",
       "    <tr>\n",
       "      <th>2</th>\n",
       "      <td>SPY20250825C00570000</td>\n",
       "      <td>SPY</td>\n",
       "      <td>570.0</td>\n",
       "      <td>2025-08-25</td>\n",
       "      <td>call</td>\n",
       "      <td>0.565434</td>\n",
       "      <td>2.0</td>\n",
       "      <td>240.0</td>\n",
       "      <td>73.99</td>\n",
       "      <td>76.79</td>\n",
       "      <td>75.03</td>\n",
       "      <td>75.390</td>\n",
       "      <td>645.309998</td>\n",
       "      <td>0.04088</td>\n",
       "      <td>2025-08-23 16:39:40.712793</td>\n",
       "      <td>0.00274</td>\n",
       "      <td>yahoo_finance</td>\n",
       "      <td>2025-08-22 16:39:41.671421</td>\n",
       "    </tr>\n",
       "    <tr>\n",
       "      <th>3</th>\n",
       "      <td>SPY20250825C00580000</td>\n",
       "      <td>SPY</td>\n",
       "      <td>580.0</td>\n",
       "      <td>2025-08-25</td>\n",
       "      <td>call</td>\n",
       "      <td>0.813478</td>\n",
       "      <td>3.0</td>\n",
       "      <td>233.0</td>\n",
       "      <td>63.99</td>\n",
       "      <td>66.80</td>\n",
       "      <td>66.14</td>\n",
       "      <td>65.395</td>\n",
       "      <td>645.309998</td>\n",
       "      <td>0.04088</td>\n",
       "      <td>2025-08-23 16:39:40.712793</td>\n",
       "      <td>0.00274</td>\n",
       "      <td>yahoo_finance</td>\n",
       "      <td>2025-08-22 16:39:41.671421</td>\n",
       "    </tr>\n",
       "    <tr>\n",
       "      <th>4</th>\n",
       "      <td>SPY20250825C00590000</td>\n",
       "      <td>SPY</td>\n",
       "      <td>590.0</td>\n",
       "      <td>2025-08-25</td>\n",
       "      <td>call</td>\n",
       "      <td>0.710940</td>\n",
       "      <td>1.0</td>\n",
       "      <td>284.0</td>\n",
       "      <td>53.99</td>\n",
       "      <td>56.80</td>\n",
       "      <td>55.93</td>\n",
       "      <td>55.395</td>\n",
       "      <td>645.309998</td>\n",
       "      <td>0.04088</td>\n",
       "      <td>2025-08-23 16:39:40.713785</td>\n",
       "      <td>0.00274</td>\n",
       "      <td>yahoo_finance</td>\n",
       "      <td>2025-08-22 16:39:41.671421</td>\n",
       "    </tr>\n",
       "  </tbody>\n",
       "</table>\n",
       "</div>"
      ],
      "text/plain": [
       "                 symbol underlying_symbol  strike expiration_date  \\\n",
       "0  SPY20250825C00530000               SPY   530.0      2025-08-25   \n",
       "1  SPY20250825C00550000               SPY   550.0      2025-08-25   \n",
       "2  SPY20250825C00570000               SPY   570.0      2025-08-25   \n",
       "3  SPY20250825C00580000               SPY   580.0      2025-08-25   \n",
       "4  SPY20250825C00590000               SPY   590.0      2025-08-25   \n",
       "\n",
       "  contract_type  implied_volatility  open_interest  volume     bid     ask  \\\n",
       "0          call            0.841798           11.0    11.0  113.98  116.78   \n",
       "1          call            0.703128            2.0     2.0   93.98   96.79   \n",
       "2          call            0.565434            2.0   240.0   73.99   76.79   \n",
       "3          call            0.813478            3.0   233.0   63.99   66.80   \n",
       "4          call            0.710940            1.0   284.0   53.99   56.80   \n",
       "\n",
       "   last_price  market_price  underlying_price  risk_free_rate  \\\n",
       "0      106.25       115.380        645.309998         0.04088   \n",
       "1       96.12        95.385        645.309998         0.04088   \n",
       "2       75.03        75.390        645.309998         0.04088   \n",
       "3       66.14        65.395        645.309998         0.04088   \n",
       "4       55.93        55.395        645.309998         0.04088   \n",
       "\n",
       "              fetch_timestamp  time_to_expiry    data_source  \\\n",
       "0  2025-08-23 16:39:40.712793         0.00274  yahoo_finance   \n",
       "1  2025-08-23 16:39:40.712793         0.00274  yahoo_finance   \n",
       "2  2025-08-23 16:39:40.712793         0.00274  yahoo_finance   \n",
       "3  2025-08-23 16:39:40.712793         0.00274  yahoo_finance   \n",
       "4  2025-08-23 16:39:40.713785         0.00274  yahoo_finance   \n",
       "\n",
       "         simulated_trade_date  \n",
       "0  2025-08-22 16:39:41.671421  \n",
       "1  2025-08-22 16:39:41.671421  \n",
       "2  2025-08-22 16:39:41.671421  \n",
       "3  2025-08-22 16:39:41.671421  \n",
       "4  2025-08-22 16:39:41.671421  "
      ]
     },
     "execution_count": 3,
     "metadata": {},
     "output_type": "execute_result"
    }
   ],
   "source": [
    "df = pd.read_csv('../data/options_data_20250823_163952.csv')\n",
    "\n",
    "print(\"Dataset Overview:\")\n",
    "print(f\"Shape: {df.shape}\")\n",
    "print(f\"\\nColumns: {df.columns.tolist()}\")\n",
    "print(f\"\\nFirst few rows:\")\n",
    "df.head()"
   ]
  },
  {
   "cell_type": "markdown",
   "metadata": {},
   "source": [
    "## 1. Data Preparation and Feature Engineering"
   ]
  },
  {
   "cell_type": "code",
   "execution_count": 4,
   "metadata": {},
   "outputs": [
    {
     "name": "stdout",
     "output_type": "stream",
     "text": [
      "Dataset shape after cleaning: (489, 27)\n",
      "Features created: lag_1, lag_2, roll_mean_5, roll_std_5, roll_max_5, momentum_3\n"
     ]
    }
   ],
   "source": [
    "# Convert timestamps and sort by time\n",
    "df['simulated_trade_date'] = pd.to_datetime(df['simulated_trade_date'])\n",
    "df = df.sort_values('simulated_trade_date').reset_index(drop=True)\n",
    "\n",
    "# Returns from market_price\n",
    "df['ret'] = df['market_price'].pct_change()\n",
    "\n",
    "# Lag and rolling features\n",
    "df['lag_1'] = df['ret'].shift(1)\n",
    "df['lag_2'] = df['ret'].shift(2)\n",
    "df['roll_mean_5'] = df['ret'].rolling(5).mean().shift(1)\n",
    "df['roll_std_5'] = df['ret'].rolling(5).std().shift(1)\n",
    "df['roll_max_5'] = df['ret'].rolling(5).max().shift(1)\n",
    "df['momentum_3'] = (df['market_price'] / df['market_price'].shift(3) - 1).shift(1)\n",
    "\n",
    "# To create Targets\n",
    "df['y_next_ret'] = df['ret'].shift(-1)  # Forecasting target\n",
    "df['y_up'] = (df['y_next_ret'] > 0).astype(int)  # Classification target\n",
    "\n",
    "# NaN value rows removed\n",
    "df_clean = df.dropna().copy()\n",
    "\n",
    "print(f\"Dataset shape after cleaning: {df_clean.shape}\")\n",
    "print(f\"Features created: lag_1, lag_2, roll_mean_5, roll_std_5, roll_max_5, momentum_3\")"
   ]
  },
  {
   "cell_type": "markdown",
   "metadata": {},
   "source": [
    "## 2. Time-Aware Split"
   ]
  },
  {
   "cell_type": "code",
   "execution_count": 5,
   "metadata": {},
   "outputs": [
    {
     "name": "stdout",
     "output_type": "stream",
     "text": [
      "Train size: 391, Test size: 98\n"
     ]
    }
   ],
   "source": [
    "# Time-aware split (80-20)\n",
    "split_idx = int(len(df_clean) * 0.8)\n",
    "train_data = df_clean.iloc[:split_idx]\n",
    "test_data = df_clean.iloc[split_idx:]\n",
    "\n",
    "# Features Defined here\n",
    "features = ['lag_1', 'lag_2', 'roll_mean_5', 'roll_std_5', 'roll_max_5', 'momentum_3']\n",
    "\n",
    "X_train, X_test = train_data[features], test_data[features]\n",
    "y_train_reg, y_test_reg = train_data['y_next_ret'], test_data['y_next_ret']\n",
    "y_train_clf, y_test_clf = train_data['y_up'], test_data['y_up']\n",
    "\n",
    "print(f\"Train size: {len(X_train)}, Test size: {len(X_test)}\")"
   ]
  },
  {
   "cell_type": "markdown",
   "metadata": {},
   "source": [
    "## 3. Pipeline Implementation - Regression"
   ]
  },
  {
   "cell_type": "code",
   "execution_count": 7,
   "metadata": {},
   "outputs": [
    {
     "name": "stdout",
     "output_type": "stream",
     "text": [
      "Regression Results:\n",
      "MAE: 567.496790\n",
      "RMSE: 1209.011795\n"
     ]
    }
   ],
   "source": [
    "# Regression Pipeline\n",
    "reg_pipeline = Pipeline([\n",
    "    ('scaler', StandardScaler()),\n",
    "    ('regressor', LinearRegression())\n",
    "])\n",
    "\n",
    "# Fit and predict\n",
    "reg_pipeline.fit(X_train, y_train_reg)\n",
    "y_pred_reg = reg_pipeline.predict(X_test)\n",
    "\n",
    "# Evaluation metrics\n",
    "mae = mean_absolute_error(y_test_reg, y_pred_reg)\n",
    "rmse = np.sqrt(mean_squared_error(y_test_reg, y_pred_reg))\n",
    "\n",
    "print(f\"Regression Results:\")\n",
    "print(f\"MAE: {mae:.6f}\")\n",
    "print(f\"RMSE: {rmse:.6f}\")"
   ]
  },
  {
   "cell_type": "markdown",
   "id": "39409562",
   "metadata": {},
   "source": [
    "## 4. Pipeline Implementation - Classification"
   ]
  },
  {
   "cell_type": "code",
   "execution_count": 8,
   "metadata": {},
   "outputs": [
    {
     "name": "stdout",
     "output_type": "stream",
     "text": [
      "\n",
      "Classification Results:\n",
      "              precision    recall  f1-score   support\n",
      "\n",
      "           0       0.57      1.00      0.73        56\n",
      "           1       0.00      0.00      0.00        42\n",
      "\n",
      "    accuracy                           0.57        98\n",
      "   macro avg       0.29      0.50      0.36        98\n",
      "weighted avg       0.33      0.57      0.42        98\n",
      "\n"
     ]
    },
    {
     "name": "stderr",
     "output_type": "stream",
     "text": [
      "c:\\Users\\papne\\OneDrive\\Desktop\\FRE\\Bootcamp 4\\nyu_frebootcamp\\projects\\project\\Lib\\site-packages\\sklearn\\metrics\\_classification.py:1731: UndefinedMetricWarning: Precision is ill-defined and being set to 0.0 in labels with no predicted samples. Use `zero_division` parameter to control this behavior.\n",
      "  _warn_prf(average, modifier, f\"{metric.capitalize()} is\", result.shape[0])\n",
      "c:\\Users\\papne\\OneDrive\\Desktop\\FRE\\Bootcamp 4\\nyu_frebootcamp\\projects\\project\\Lib\\site-packages\\sklearn\\metrics\\_classification.py:1731: UndefinedMetricWarning: Precision is ill-defined and being set to 0.0 in labels with no predicted samples. Use `zero_division` parameter to control this behavior.\n",
      "  _warn_prf(average, modifier, f\"{metric.capitalize()} is\", result.shape[0])\n",
      "c:\\Users\\papne\\OneDrive\\Desktop\\FRE\\Bootcamp 4\\nyu_frebootcamp\\projects\\project\\Lib\\site-packages\\sklearn\\metrics\\_classification.py:1731: UndefinedMetricWarning: Precision is ill-defined and being set to 0.0 in labels with no predicted samples. Use `zero_division` parameter to control this behavior.\n",
      "  _warn_prf(average, modifier, f\"{metric.capitalize()} is\", result.shape[0])\n"
     ]
    }
   ],
   "source": [
    "# Classification Pipeline\n",
    "clf_pipeline = Pipeline([\n",
    "    ('scaler', StandardScaler()),\n",
    "    ('classifier', LogisticRegression(max_iter=1000, random_state=42))\n",
    "])\n",
    "\n",
    "# Fit and predict\n",
    "clf_pipeline.fit(X_train, y_train_clf)\n",
    "y_pred_clf = clf_pipeline.predict(X_test)\n",
    "\n",
    "# Evaluation metrics\n",
    "print(f\"\\nClassification Results:\")\n",
    "print(classification_report(y_test_clf, y_pred_clf))"
   ]
  },
  {
   "cell_type": "markdown",
   "id": "a1556749",
   "metadata": {},
   "source": [
    "## 5. Visualization and Confusion Matrix"
   ]
  },
  {
   "cell_type": "code",
   "execution_count": 9,
   "id": "3d98925a",
   "metadata": {},
   "outputs": [
    {
     "data": {
      "image/png": "[encoded data removed]",
      "text/plain": [
       "<Figure size 1500x500 with 3 Axes>"
      ]
     },
     "metadata": {},
     "output_type": "display_data"
    }
   ],
   "source": [
    "# Subplots\n",
    "fig, axes = plt.subplots(1, 2, figsize=(15, 5))\n",
    "\n",
    "# Plot 1: Regression - Prediction vs Truth\n",
    "axes[0].scatter(y_test_reg, y_pred_reg, alpha=0.6)\n",
    "axes[0].plot([y_test_reg.min(), y_test_reg.max()], \n",
    "             [y_test_reg.min(), y_test_reg.max()], 'r--', lw=2)\n",
    "axes[0].set_xlabel('True Returns')\n",
    "axes[0].set_ylabel('Predicted Returns')\n",
    "axes[0].set_title(f'Regression: Predicted vs True\\nMAE: {mae:.6f}, RMSE: {rmse:.6f}')\n",
    "axes[0].grid(True, alpha=0.3)\n",
    "\n",
    "# Plot 2: Classification - Confusion Matrix\n",
    "cm = confusion_matrix(y_test_clf, y_pred_clf)\n",
    "sns.heatmap(cm, annot=True, fmt='d', ax=axes[1], cmap='Blues')\n",
    "axes[1].set_xlabel('Predicted')\n",
    "axes[1].set_ylabel('True')\n",
    "axes[1].set_title('Classification Confusion Matrix')\n",
    "\n",
    "plt.tight_layout()\n",
    "plt.show()"
   ]
  },
  {
   "cell_type": "markdown",
   "metadata": {},
   "source": [
    "## Interpretation\n",
    "\n",
    "### What Works:\n",
    "- **Feature Engineering**: Lag features capture short-term momentum effects, while rolling statistics provide information about recent trend behavior\n",
    "- **Pipeline Implementation**: StandardScaler normalizes features with different scales (returns vs volatility measures)\n",
    "- **Time-Aware Splitting**: The temporal split prevents data leakage by ensuring only historical information is used for predictions\n",
    "\n",
    "### Limitations and Failures:\n",
    "- **Low Predictive Power**: Financial returns exhibit high randomness, making accurate forecasting extremely challenging\n",
    "- **Feature Limitations**: Simple technical indicators may not capture complex market microstructure effects\n",
    "- **Model Assumptions**: Linear models assume linear relationships, but financial data often displays non-linear patterns and regime changes\n",
    "- **Stationarity Issues**: Return series may not be stationary, violating key assumptions of linear regression\n",
    "\n",
    "### Where Assumptions Break:\n",
    "1. **Market Regime Changes**: Models trained during calm periods may fail during high volatility or crisis periods\n",
    "2. **Structural Breaks**: Major economic events or policy changes can fundamentally alter price dynamics\n",
    "3. **Overfitting to Noise**: Short-term patterns in training data may represent noise rather than signal\n",
    "4. **Feature Instability**: Rolling statistics become unreliable during periods of low trading volume or market gaps\n",
    "5. **Non-Constant Volatility**: The assumption of constant error variance is violated in financial time series\n",
    "\n",
    "### Potential Improvements:\n",
    "- Incorporate volatility clustering models (GARCH-type)\n",
    "- Add regime-switching indicators or market stress measures\n",
    "- Implement ensemble methods combining multiple model types\n",
    "- Use walk-forward validation to account for time-varying relationships\n",
    "- Consider transaction costs and realistic implementation constraints\n",
    "- Add external variables like economic indicators or market sentiment measures\n",
    "\n",
    "### Risk Assessment:\n",
    "The model's performance should be evaluated across different market conditions. High accuracy during training periods may not translate to reliable performance during market stress, making robust risk management essential for any practical application."
   ]
  },
  {
   "cell_type": "markdown",
   "id": "b7df9502",
   "metadata": {},
   "source": []
  }
 ],
 "metadata": {
  "kernelspec": {
   "display_name": "project",
   "language": "python",
   "name": "python3"
  },
  "language_info": {
   "codemirror_mode": {
    "name": "ipython",
    "version": 3
   },
   "file_extension": ".py",
   "mimetype": "text/x-python",
   "name": "python",
   "nbconvert_exporter": "python",
   "pygments_lexer": "ipython3",
   "version": "3.12.1"
  }
 },
 "nbformat": 4,
 "nbformat_minor": 5
}
