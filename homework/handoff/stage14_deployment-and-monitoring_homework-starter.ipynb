{
 "cells": [
  {
   "cell_type": "markdown",
   "metadata": {},
   "source": [
    "# Homework Starter — Stage 14: Deployment & Monitoring"
   ]
  },
  {
   "cell_type": "markdown",
   "id": "b4b2baf5",
   "metadata": {},
   "source": [
    "\n"
   ]
  },
  {
   "cell_type": "markdown",
   "metadata": {},
   "source": [
    "## 1) Reflection (200–300 words)\n",
    "\n",
    "### Deployment Risks\n",
    "The options pricing model faces several critical risks if deployed to production. **Data quality degradation** represents the highest risk, as the model's 19.3% performance improvement depends on complete volatility data. Missing or stale market data could trigger systematic prediction errors. **Model drift** poses significant concern given the low R² (15.6%), making the model sensitive to market regime changes that weren't captured in training data. **Latency failures** during high-volatility periods could result in outdated predictions when speed matters most for trading decisions.\n",
    "\n",
    "### Monitoring Metrics Across Four Layers\n",
    "\n",
    "**Data Layer**: Monitor volatility data freshness (alert if >5 minutes stale), null rate in implied_volatility field (alert if >10%), and schema hash validation to detect upstream data changes.\n",
    "\n",
    "**Model Layer**: Track rolling 7-day MAE (alert if >$80), prediction confidence interval width (alert if >$200), and feature distribution drift using PSI (alert if >0.25 on any feature).\n",
    "\n",
    "**System Layer**: Monitor p95 API latency (alert if >100ms), Flask app error rate (alert if >2%), and model loading success rate (alert if <99%).\n",
    "\n",
    "**Business Layer**: Track prediction accuracy on live trades (weekly review), trading system uptime during market hours (alert if <99.9%), and options pricing deviation from market benchmarks.\n",
    "\n",
    "### Ownership & Handoffs\n",
    "**Data Engineering** owns upstream data pipelines and freshness monitoring. **ML Engineering** maintains model performance metrics and retraining triggers (monthly or when rolling MAE exceeds $80). **Platform Engineering** manages system health and API reliability. **Quantitative Analysts** validate business metrics and approve model rollbacks. Issues escalate through Slack alerts to on-call engineers, with critical failures triggering immediate model fallback to Black-Scholes pricing until resolution."
   ]
  }
 ],
 "metadata": {
  "kernelspec": {
   "display_name": "Python 3",
   "language": "python",
   "name": "python3"
  },
  "language_info": {
   "name": "python",
   "version": ""
  }
 },
 "nbformat": 4,
 "nbformat_minor": 5
}
