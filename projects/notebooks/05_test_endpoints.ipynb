{
 "cells": [
  {
   "cell_type": "markdown",
   "id": "d888f07d",
   "metadata": {},
   "source": [
    "## API Test Notebook"
   ]
  },
  {
   "cell_type": "code",
   "execution_count": 1,
   "id": "b663f9aa",
   "metadata": {},
   "outputs": [
    {
     "name": "stdout",
     "output_type": "stream",
     "text": [
      "🚀 Starting API Tests...\n",
      "Base URL: http://127.0.0.1:5000\n"
     ]
    }
   ],
   "source": [
    "import requests\n",
    "import json\n",
    "import pandas as pd\n",
    "\n",
    "# Base URL for the Flask API\n",
    "BASE_URL = \"http://127.0.0.1:5000\"\n",
    "\n",
    "print(\"🚀 Starting API Tests...\")\n",
    "print(f\"Base URL: {BASE_URL}\")"
   ]
  },
  {
   "cell_type": "code",
   "execution_count": 2,
   "id": "bb6136d0",
   "metadata": {},
   "outputs": [
    {
     "name": "stdout",
     "output_type": "stream",
     "text": [
      "✅ Health Check: 200\n",
      "Response: {'model_loaded': True, 'status': 'healthy', 'timestamp': 'BlackScholesCalculator available'}\n"
     ]
    }
   ],
   "source": [
    "# Test health endpoint\n",
    "try:\n",
    "    response = requests.get(f\"{BASE_URL}/health\")\n",
    "    print(f\"✅ Health Check: {response.status_code}\")\n",
    "    print(f\"Response: {response.json()}\")\n",
    "except Exception as e:\n",
    "    print(f\"❌ Health Check Failed: {e}\")"
   ]
  },
  {
   "cell_type": "code",
   "execution_count": 7,
   "id": "41205064",
   "metadata": {},
   "outputs": [
    {
     "name": "stdout",
     "output_type": "stream",
     "text": [
      "✅ Sample: 200\n",
      "Sample prediction: $-27.9201\n",
      "Input: {'contract_type': 'call', 'implied_volatility': 0.25, 'strike': 455.0, 'time_to_expiry': 0.0833, 'underlying_price': 450.0}\n"
     ]
    }
   ],
   "source": [
    "# Test sample endpoint\n",
    "try:\n",
    "    response = requests.get(f\"{BASE_URL}/sample\")\n",
    "    print(f\"✅ Sample: {response.status_code}\")\n",
    "    data = response.json()\n",
    "    print(f\"Sample prediction: ${data['prediction']:.4f}\")\n",
    "    print(f\"Input: {data['input_data']}\")\n",
    "except Exception as e:\n",
    "    print(f\"❌ Sample Failed: {e}\")"
   ]
  },
  {
   "cell_type": "code",
   "execution_count": 8,
   "id": "38f31a0e",
   "metadata": {},
   "outputs": [
    {
     "name": "stdout",
     "output_type": "stream",
     "text": [
      "✅ Custom Prediction: 200\n",
      "Predicted Error: $-27.7809\n",
      "Black-Scholes Price: $11.47\n"
     ]
    }
   ],
   "source": [
    "# Test custom prediction\n",
    "test_option = {\n",
    "    \"strike\": 150.0,\n",
    "    \"implied_volatility\": 0.25,\n",
    "    \"open_interest\": 1000,\n",
    "    \"volume\": 50,\n",
    "    \"underlying_price\": 155.0,\n",
    "    \"risk_free_rate\": 0.05,\n",
    "    \"time_to_expiry\": 0.25,\n",
    "    \"contract_type\": \"call\"\n",
    "}\n",
    "\n",
    "try:\n",
    "    response = requests.post(f\"{BASE_URL}/predict\", json=test_option)\n",
    "    print(f\"✅ Custom Prediction: {response.status_code}\")\n",
    "    result = response.json()\n",
    "    print(f\"Predicted Error: ${result['prediction']:.4f}\")\n",
    "    print(f\"Black-Scholes Price: ${result['black_scholes_price']:.2f}\")\n",
    "except Exception as e:\n",
    "    print(f\"❌ Custom Prediction Failed: {e}\")"
   ]
  },
  {
   "cell_type": "code",
   "execution_count": 9,
   "id": "ecf8175a",
   "metadata": {},
   "outputs": [
    {
     "name": "stdout",
     "output_type": "stream",
     "text": [
      "📊 Strike Price Analysis:\n",
      "   strike  prediction   bs_price\n",
      "0     140  -27.780927  18.527195\n",
      "1     150  -27.780854  11.474817\n",
      "2     160  -27.678726   6.385485\n",
      "3     170  -27.678726   3.187234\n"
     ]
    }
   ],
   "source": [
    "# Test multiple strike prices\n",
    "strikes = [140, 150, 160, 170]\n",
    "results = []\n",
    "\n",
    "for strike in strikes:\n",
    "    test_data = test_option.copy()\n",
    "    test_data['strike'] = strike\n",
    "    \n",
    "    try:\n",
    "        response = requests.post(f\"{BASE_URL}/predict\", json=test_data)\n",
    "        if response.status_code == 200:\n",
    "            result = response.json()\n",
    "            results.append({\n",
    "                'strike': strike,\n",
    "                'prediction': result['prediction'],\n",
    "                'bs_price': result['black_scholes_price']\n",
    "            })\n",
    "    except:\n",
    "        continue\n",
    "\n",
    "# Show results\n",
    "df = pd.DataFrame(results)\n",
    "print(\"📊 Strike Price Analysis:\")\n",
    "print(df)"
   ]
  },
  {
   "cell_type": "code",
   "execution_count": 10,
   "id": "c76ea7ae",
   "metadata": {},
   "outputs": [
    {
     "name": "stdout",
     "output_type": "stream",
     "text": [
      "Error Test Status: 400\n",
      "Error Response: {'error': 'Missing required field: underlying_price'}\n"
     ]
    }
   ],
   "source": [
    "# Test invalid input\n",
    "invalid_data = {\"strike\": \"invalid\", \"volume\": -10}\n",
    "\n",
    "try:\n",
    "    response = requests.post(f\"{BASE_URL}/predict\", json=invalid_data)\n",
    "    print(f\"Error Test Status: {response.status_code}\")\n",
    "    print(f\"Error Response: {response.json()}\")\n",
    "except Exception as e:\n",
    "    print(f\"Error handling test: {e}\")"
   ]
  },
  {
   "cell_type": "markdown",
   "id": "8c0fece6",
   "metadata": {},
   "source": []
  }
 ],
 "metadata": {
  "kernelspec": {
   "display_name": "base",
   "language": "python",
   "name": "python3"
  },
  "language_info": {
   "codemirror_mode": {
    "name": "ipython",
    "version": 3
   },
   "file_extension": ".py",
   "mimetype": "text/x-python",
   "name": "python",
   "nbconvert_exporter": "python",
   "pygments_lexer": "ipython3",
   "version": "3.11.5"
  }
 },
 "nbformat": 4,
 "nbformat_minor": 5
}
