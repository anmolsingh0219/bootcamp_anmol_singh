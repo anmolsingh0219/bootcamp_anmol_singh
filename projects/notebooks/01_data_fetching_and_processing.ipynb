{
  "cells": [
    {
      "cell_type": "markdown",
      "metadata": {},
      "source": [
        "# ML-Enhanced European Option Pricing: Data Fetching and Processing\n",
        "\n",
        "Complete data pipeline from fetching raw options market data and preparing it for machine learning modeling.\n",
        "\n",
        "## Pipeline Overview:\n",
        "1. **Data Fetching**: Options data from Yahoo Finance (real-time market data)\n",
        "2. **Data Cleaning**: Remove invalid entries and apply quality filters\n",
        "3. **Feature Engineering**: Create additional features for modeling\n",
        "4. **Black-Scholes Calculation**: Compute theoretical prices\n",
        "5. **Target Variable**: Calculate pricing errors (Market Price - BS Price)\n",
        "6. **Data Quality Assessment**: Check for outliers and data quality issues\n",
        "7. **Normalization**: Standardize features for modeling\n",
        "8. **Data Export**: Save processed data for modeling\n"
      ]
    },
    {
      "cell_type": "code",
      "execution_count": 1,
      "metadata": {},
      "outputs": [
        {
          "name": "stdout",
          "output_type": "stream",
          "text": [
            "Setup complete\n"
          ]
        }
      ],
      "source": [
        "import sys\n",
        "import os\n",
        "import pandas as pd\n",
        "import numpy as np\n",
        "import matplotlib.pyplot as plt\n",
        "import seaborn as sns\n",
        "from datetime import datetime\n",
        "import warnings\n",
        "warnings.filterwarnings('ignore')\n",
        "\n",
        "sys.path.append('..')\n",
        "\n",
        "from config import Config\n",
        "from src.data_fetcher import OptionsDataFetcher\n",
        "from src.black_scholes import BlackScholesCalculator\n",
        "from src.data_processor import OptionsDataProcessor\n",
        "\n",
        "plt.style.use('default')\n",
        "sns.set_palette(\"husl\")\n",
        "\n",
        "print(\"Setup complete\")\n"
      ]
    },
    {
      "cell_type": "markdown",
      "metadata": {},
      "source": [
        "## Step 1: Configuration and Setup"
      ]
    },
    {
      "cell_type": "code",
      "execution_count": 2,
      "metadata": {},
      "outputs": [
        {
          "name": "stderr",
          "output_type": "stream",
          "text": [
            "INFO:src.data_fetcher:OptionsDataFetcher initialized successfully\n"
          ]
        },
        {
          "name": "stdout",
          "output_type": "stream",
          "text": [
            "Target: SPY\n",
            "Components ready\n"
          ]
        }
      ],
      "source": [
        "try:\n",
        "    Config.validate_config()\n",
        "    print(f\"Target: {Config.TARGET_SYMBOL}\")\n",
        "except ValueError as e:\n",
        "    print(f\"Error: {e}\")\n",
        "    raise\n",
        "\n",
        "fetcher = OptionsDataFetcher(alpha_vantage_api_key=Config.ALPHA_VANTAGE_API_KEY)\n",
        "processor = OptionsDataProcessor()\n",
        "bs_calculator = BlackScholesCalculator()\n",
        "\n",
        "print(\"Components ready\")"
      ]
    },
    {
      "cell_type": "markdown",
      "metadata": {},
      "source": [
        "## Step 2: Data Fetching"
      ]
    },
    {
      "cell_type": "code",
      "execution_count": 3,
      "metadata": {},
      "outputs": [
        {
          "name": "stdout",
          "output_type": "stream",
          "text": [
            "📈 Fetching market data...\n"
          ]
        },
        {
          "name": "stderr",
          "output_type": "stream",
          "text": [
            "INFO:src.data_fetcher:Risk-free rate fetched: 0.0413\n",
            "INFO:src.data_fetcher:Current SPY price: $635.55\n",
            "INFO:src.data_fetcher:Fetching options data from Yahoo Finance for SPY...\n",
            "INFO:src.data_fetcher:Fetching options data for SPY from Yahoo Finance...\n",
            "INFO:src.data_fetcher:Fetching options chain for expiration: 2025-08-22\n"
          ]
        },
        {
          "name": "stdout",
          "output_type": "stream",
          "text": [
            "✅ Risk-free rate: 0.0413 (4.13%)\n",
            "✅ Current SPY price: $635.55\n",
            "\n",
            "📊 Fetching options data for SPY...\n"
          ]
        },
        {
          "name": "stderr",
          "output_type": "stream",
          "text": [
            "INFO:src.data_fetcher:Fetching options chain for expiration: 2025-08-25\n",
            "INFO:src.data_fetcher:Fetching options chain for expiration: 2025-08-26\n",
            "INFO:src.data_fetcher:Fetching options chain for expiration: 2025-08-27\n",
            "INFO:src.data_fetcher:Successfully fetched 60 options from Yahoo Finance\n"
          ]
        },
        {
          "name": "stdout",
          "output_type": "stream",
          "text": [
            "✅ Successfully fetched 60 options contracts\n"
          ]
        }
      ],
      "source": [
        "# Fetch market data\n",
        "print(\"📈 Fetching market data...\")\n",
        "\n",
        "risk_free_rate = fetcher.get_risk_free_rate(Config.RISK_FREE_RATE_TICKER)\n",
        "stock_price = fetcher.get_current_stock_price(Config.TARGET_SYMBOL)\n",
        "\n",
        "print(f\"✅ Risk-free rate: {risk_free_rate:.4f} ({risk_free_rate*100:.2f}%)\")\n",
        "print(f\"✅ Current {Config.TARGET_SYMBOL} price: ${stock_price:.2f}\")\n",
        "\n",
        "# Fetch options data from Yahoo Finance\n",
        "print(f\"\\n📊 Fetching options data for {Config.TARGET_SYMBOL}...\")\n",
        "options_list = fetcher.fetch_options_data(Config.TARGET_SYMBOL)\n",
        "\n",
        "if not options_list:\n",
        "    print(\"❌ Failed to fetch options data\")\n",
        "    raise Exception(\"Data fetching failed\")\n",
        "\n",
        "print(f\"✅ Successfully fetched {len(options_list)} options contracts\")\n"
      ]
    },
    {
      "cell_type": "code",
      "execution_count": 4,
      "metadata": {},
      "outputs": [
        {
          "name": "stderr",
          "output_type": "stream",
          "text": [
            "INFO:src.data_fetcher:Processed 60 option contracts into DataFrame\n",
            "INFO:src.data_fetcher:Raw data saved to data/raw/options_data_20250821_174335.csv\n"
          ]
        },
        {
          "name": "stdout",
          "output_type": "stream",
          "text": [
            "🔄 Processing options data...\n",
            "\n",
            "📊 Raw Data Summary:\n",
            "Shape: (60, 15)\n",
            "Columns: ['symbol', 'underlying_symbol', 'strike', 'expiration_date', 'contract_type', 'implied_volatility', 'open_interest', 'volume', 'bid', 'ask', 'last_price', 'market_price', 'underlying_price', 'risk_free_rate', 'fetch_timestamp']\n",
            "\n",
            "First few rows:\n",
            "                 symbol underlying_symbol  strike expiration_date  \\\n",
            "0  SPY20250822C00400000               SPY   400.0      2025-08-22   \n",
            "1  SPY20250822C00410000               SPY   410.0      2025-08-22   \n",
            "2  SPY20250822C00420000               SPY   420.0      2025-08-22   \n",
            "3  SPY20250822C00445000               SPY   445.0      2025-08-22   \n",
            "4  SPY20250822C00450000               SPY   450.0      2025-08-22   \n",
            "\n",
            "  contract_type  implied_volatility  open_interest  volume     bid     ask  \\\n",
            "0          call            2.791019           21.0    20.0  234.60  237.40   \n",
            "1          call            2.660160            4.0     4.0  224.60  227.41   \n",
            "2          call            2.533207            3.0     4.0  214.61  217.41   \n",
            "3          call            2.222661            1.0     NaN  189.62  192.42   \n",
            "4          call            2.161137           14.0     2.0  184.62  187.42   \n",
            "\n",
            "   last_price  market_price  underlying_price  risk_free_rate  \\\n",
            "0      243.39       236.000        635.549988         0.04128   \n",
            "1      222.52       226.005        635.549988         0.04128   \n",
            "2      223.47       216.010        635.549988         0.04128   \n",
            "3      192.18       191.020        635.549988         0.04128   \n",
            "4      190.07       186.020        635.549988         0.04128   \n",
            "\n",
            "             fetch_timestamp  \n",
            "0 2025-08-21 17:43:29.224881  \n",
            "1 2025-08-21 17:43:29.225865  \n",
            "2 2025-08-21 17:43:29.226860  \n",
            "3 2025-08-21 17:43:29.226860  \n",
            "4 2025-08-21 17:43:29.227856  \n",
            "\n",
            "💾 Raw data saved to: data/raw/options_data_20250821_174335.csv\n"
          ]
        }
      ],
      "source": [
        "# Process options data\n",
        "print(\"🔄 Processing options data...\")\n",
        "raw_df = fetcher.process_options_data(options_list, stock_price, risk_free_rate)\n",
        "\n",
        "print(f\"\\n📊 Raw Data Summary:\")\n",
        "print(f\"Shape: {raw_df.shape}\")\n",
        "print(f\"Columns: {list(raw_df.columns)}\")\n",
        "print(f\"\\nFirst few rows:\")\n",
        "print(raw_df.head())\n",
        "\n",
        "# Save raw data\n",
        "raw_data_path = f\"{Config.DATA_RAW_PATH}options_data_{datetime.now().strftime('%Y%m%d_%H%M%S')}.csv\"\n",
        "os.makedirs(Config.DATA_RAW_PATH, exist_ok=True)\n",
        "fetcher.save_raw_data(raw_df, raw_data_path)\n",
        "print(f\"\\n💾 Raw data saved to: {raw_data_path}\")\n"
      ]
    },
    {
      "cell_type": "markdown",
      "metadata": {},
      "source": [
        "## Step 3: Data Cleaning and Quality Assessment"
      ]
    },
    {
      "cell_type": "code",
      "execution_count": 5,
      "metadata": {},
      "outputs": [
        {
          "name": "stderr",
          "output_type": "stream",
          "text": [
            "INFO:src.data_processor:Data cleaning complete. Final shape: (45, 17)\n",
            "INFO:src.data_processor:Removed 15 rows during cleaning\n"
          ]
        },
        {
          "name": "stdout",
          "output_type": "stream",
          "text": [
            "🧹 Starting data cleaning process...\n",
            "Cleaning configuration: {'MIN_VOLUME': 0, 'MIN_OPEN_INTEREST': 0, 'MIN_TIME_TO_EXPIRY': 0.001}\n",
            "\n",
            "📈 Data Cleaning Results:\n",
            "Original shape: (60, 15)\n",
            "Cleaned shape:  (45, 17)\n",
            "Rows removed:   15 (25.0%)\n",
            "\n",
            "🔍 Missing Values Check:\n",
            "volume    6\n",
            "dtype: int64\n",
            "\n",
            "📊 Cleaned Data Sample:\n",
            "                  symbol underlying_symbol  strike expiration_date  \\\n",
            "15  SPY20250825C00530000               SPY   530.0      2025-08-25   \n",
            "16  SPY20250825C00550000               SPY   550.0      2025-08-25   \n",
            "17  SPY20250825C00570000               SPY   570.0      2025-08-25   \n",
            "18  SPY20250825C00580000               SPY   580.0      2025-08-25   \n",
            "19  SPY20250825C00590000               SPY   590.0      2025-08-25   \n",
            "\n",
            "   contract_type  implied_volatility  open_interest  volume     bid     ask  \\\n",
            "15          call            0.809084           11.0     NaN  104.73  107.53   \n",
            "16          call            0.669437            2.0     NaN   84.74   87.54   \n",
            "17          call            0.532231            2.0     NaN   64.76   67.56   \n",
            "18          call            0.608036            3.0     1.0   54.77   57.58   \n",
            "19          call            0.523076            1.0     5.0   44.79   47.59   \n",
            "\n",
            "    last_price  market_price  underlying_price  risk_free_rate  \\\n",
            "15      115.44       106.130        635.549988         0.04128   \n",
            "16       94.03        86.140        635.549988         0.04128   \n",
            "17       72.87        66.160        635.549988         0.04128   \n",
            "18       55.87        56.175        635.549988         0.04128   \n",
            "19       46.69        46.190        635.549988         0.04128   \n",
            "\n",
            "              fetch_timestamp  time_to_expiry  moneyness  \n",
            "15 2025-08-21 17:43:29.519747        0.008219   1.199151  \n",
            "16 2025-08-21 17:43:29.534469        0.008219   1.155545  \n",
            "17 2025-08-21 17:43:29.535519        0.008219   1.115000  \n",
            "18 2025-08-21 17:43:29.537656        0.008219   1.095776  \n",
            "19 2025-08-21 17:43:29.537656        0.008219   1.077203  \n"
          ]
        }
      ],
      "source": [
        "# Create configuration for data cleaning\n",
        "cleaning_config = {\n",
        "    'MIN_VOLUME': Config.MIN_VOLUME,\n",
        "    'MIN_OPEN_INTEREST': Config.MIN_OPEN_INTEREST,\n",
        "    'MIN_TIME_TO_EXPIRY': Config.MIN_TIME_TO_EXPIRY\n",
        "}\n",
        "\n",
        "print(\"🧹 Starting data cleaning process...\")\n",
        "print(f\"Cleaning configuration: {cleaning_config}\")\n",
        "\n",
        "# Clean the data\n",
        "cleaned_df = processor.clean_raw_data(raw_df, cleaning_config)\n",
        "\n",
        "# Display cleaning results\n",
        "print(f\"\\n📈 Data Cleaning Results:\")\n",
        "print(f\"Original shape: {raw_df.shape}\")\n",
        "print(f\"Cleaned shape:  {cleaned_df.shape}\")\n",
        "print(f\"Rows removed:   {len(raw_df) - len(cleaned_df)} ({(len(raw_df) - len(cleaned_df))/len(raw_df)*100:.1f}%)\")\n",
        "\n",
        "# Check for missing values\n",
        "print(f\"\\n🔍 Missing Values Check:\")\n",
        "missing_summary = cleaned_df.isnull().sum()\n",
        "if missing_summary.sum() > 0:\n",
        "    print(missing_summary[missing_summary > 0])\n",
        "else:\n",
        "    print(\"✅ No missing values found!\")\n",
        "    \n",
        "print(f\"\\n📊 Cleaned Data Sample:\")\n",
        "print(cleaned_df.head())\n"
      ]
    },
    {
      "cell_type": "code",
      "execution_count": null,
      "metadata": {},
      "outputs": [],
      "source": []
    }
  ],
  "metadata": {
    "kernelspec": {
      "display_name": "project",
      "language": "python",
      "name": "python3"
    },
    "language_info": {
      "codemirror_mode": {
        "name": "ipython",
        "version": 3
      },
      "file_extension": ".py",
      "mimetype": "text/x-python",
      "name": "python",
      "nbconvert_exporter": "python",
      "pygments_lexer": "ipython3",
      "version": "3.12.1"
    }
  },
  "nbformat": 4,
  "nbformat_minor": 2
}
