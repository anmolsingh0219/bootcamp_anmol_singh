{
  "cells": [
    {
      "cell_type": "markdown",
      "metadata": {},
      "source": [
        "# ML-Enhanced European Option Pricing: Data Fetching and Processing\n",
        "\n",
        "Complete data pipeline from fetching raw options market data and preparing it for machine learning modeling.\n",
        "\n",
        "## Pipeline Overview:\n",
        "1. **Data Fetching**: Options data from Yahoo Finance (real-time market data)\n",
        "2. **Data Cleaning**: Remove invalid entries and apply quality filters\n",
        "3. **Feature Engineering**: Create additional features for modeling\n",
        "4. **Black-Scholes Calculation**: Compute theoretical prices\n",
        "5. **Target Variable**: Calculate pricing errors (Market Price - BS Price)\n",
        "6. **Data Quality Assessment**: Check for outliers and data quality issues\n",
        "7. **Normalization**: Standardize features for modeling\n",
        "8. **Data Export**: Save processed data for modeling\n"
      ]
    },
    {
      "cell_type": "code",
      "execution_count": 1,
      "metadata": {},
      "outputs": [
        {
          "name": "stdout",
          "output_type": "stream",
          "text": [
            "Setup complete\n"
          ]
        }
      ],
      "source": [
        "import sys\n",
        "import os\n",
        "import pandas as pd\n",
        "import numpy as np\n",
        "import matplotlib.pyplot as plt\n",
        "import seaborn as sns\n",
        "from datetime import datetime\n",
        "import warnings\n",
        "warnings.filterwarnings('ignore')\n",
        "\n",
        "sys.path.append('..')\n",
        "\n",
        "from config import Config\n",
        "from src.data_fetcher import OptionsDataFetcher\n",
        "from src.black_scholes import BlackScholesCalculator\n",
        "from src.data_processor import OptionsDataProcessor\n",
        "\n",
        "plt.style.use('default')\n",
        "sns.set_palette(\"husl\")\n",
        "\n",
        "print(\"Setup complete\")\n"
      ]
    },
    {
      "cell_type": "markdown",
      "metadata": {},
      "source": [
        "## Step 1: Configuration and Setup"
      ]
    },
    {
      "cell_type": "code",
      "execution_count": 2,
      "metadata": {},
      "outputs": [
        {
          "name": "stderr",
          "output_type": "stream",
          "text": [
            "INFO:src.data_fetcher:OptionsDataFetcher initialized successfully\n"
          ]
        },
        {
          "name": "stdout",
          "output_type": "stream",
          "text": [
            "Target: SPY\n",
            "Components ready\n"
          ]
        }
      ],
      "source": [
        "Config.validate_config()\n",
        "print(f\"Target: {Config.TARGET_SYMBOL}\")\n",
        "\n",
        "fetcher = OptionsDataFetcher()\n",
        "processor = OptionsDataProcessor()\n",
        "bs_calculator = BlackScholesCalculator()\n",
        "\n",
        "print(\"Components ready\")"
      ]
    },
    {
      "cell_type": "markdown",
      "metadata": {},
      "source": [
        "## Step 2: Data Fetching"
      ]
    },
    {
      "cell_type": "code",
      "execution_count": 3,
      "metadata": {},
      "outputs": [
        {
          "name": "stdout",
          "output_type": "stream",
          "text": [
            "📈 Fetching market data...\n"
          ]
        },
        {
          "name": "stderr",
          "output_type": "stream",
          "text": [
            "INFO:src.data_fetcher:Risk-free rate fetched: 0.0409\n",
            "INFO:src.data_fetcher:Current SPY price: $645.31\n",
            "INFO:src.data_fetcher:Fetching historical-style options data for SPY...\n",
            "INFO:src.data_fetcher:Fetching options data for SPY from Yahoo Finance...\n",
            "INFO:src.data_fetcher:Found 8 short-term expiration dates\n",
            "INFO:src.data_fetcher:Using 8 expiration dates, targeting 62 contracts per date\n",
            "INFO:src.data_fetcher:Fetching options chain for expiration: 2025-08-25\n"
          ]
        },
        {
          "name": "stdout",
          "output_type": "stream",
          "text": [
            "✅ Risk-free rate: 0.0409 (4.09%)\n",
            "✅ Current SPY price: $645.31\n",
            "\n",
            "📊 Fetching historical-style options data for SPY...\n"
          ]
        },
        {
          "name": "stderr",
          "output_type": "stream",
          "text": [
            "INFO:src.data_fetcher:Fetching options chain for expiration: 2025-08-26\n",
            "INFO:src.data_fetcher:Fetching options chain for expiration: 2025-08-27\n",
            "INFO:src.data_fetcher:Fetching options chain for expiration: 2025-08-28\n",
            "INFO:src.data_fetcher:Fetching options chain for expiration: 2025-08-29\n",
            "INFO:src.data_fetcher:Fetching options chain for expiration: 2025-09-05\n",
            "INFO:src.data_fetcher:Fetching options chain for expiration: 2025-09-12\n",
            "INFO:src.data_fetcher:Fetching options chain for expiration: 2025-09-19\n",
            "INFO:src.data_fetcher:Successfully fetched 496 options contracts representing historical-style data\n"
          ]
        },
        {
          "name": "stdout",
          "output_type": "stream",
          "text": [
            "✅ Successfully fetched 496 options contracts\n"
          ]
        }
      ],
      "source": [
        "# Fetch market data\n",
        "print(\"📈 Fetching market data...\")\n",
        "\n",
        "risk_free_rate = fetcher.get_risk_free_rate(Config.RISK_FREE_RATE_TICKER)\n",
        "stock_price = fetcher.get_current_stock_price(Config.TARGET_SYMBOL)\n",
        "\n",
        "print(f\"✅ Risk-free rate: {risk_free_rate:.4f} ({risk_free_rate*100:.2f}%)\")\n",
        "print(f\"✅ Current {Config.TARGET_SYMBOL} price: ${stock_price:.2f}\")\n",
        "\n",
        "# Fetch historical-style options data from Yahoo Finance\n",
        "print(f\"\\n📊 Fetching historical-style options data for {Config.TARGET_SYMBOL}...\")\n",
        "options_list = fetcher.fetch_historical_style_options(Config.TARGET_SYMBOL)\n",
        "\n",
        "if not options_list:\n",
        "    print(\"❌ Failed to fetch options data\")\n",
        "    raise Exception(\"Data fetching failed\")\n",
        "\n",
        "print(f\"✅ Successfully fetched {len(options_list)} options contracts\")\n"
      ]
    },
    {
      "cell_type": "code",
      "execution_count": 4,
      "metadata": {},
      "outputs": [
        {
          "name": "stderr",
          "output_type": "stream",
          "text": [
            "INFO:src.data_fetcher:Processed 496 option contracts into DataFrame\n",
            "INFO:src.data_fetcher:Raw data saved to data/raw/options_data_20250823_163952.csv\n"
          ]
        },
        {
          "name": "stdout",
          "output_type": "stream",
          "text": [
            "🔄 Processing options data...\n",
            "\n",
            "📊 Raw Data Summary:\n",
            "Shape: (496, 18)\n",
            "Columns: ['symbol', 'underlying_symbol', 'strike', 'expiration_date', 'contract_type', 'implied_volatility', 'open_interest', 'volume', 'bid', 'ask', 'last_price', 'market_price', 'underlying_price', 'risk_free_rate', 'fetch_timestamp', 'time_to_expiry', 'data_source', 'simulated_trade_date']\n",
            "\n",
            "First few rows:\n",
            "                 symbol underlying_symbol  strike expiration_date  \\\n",
            "0  SPY20250825C00530000               SPY   530.0      2025-08-25   \n",
            "1  SPY20250825C00550000               SPY   550.0      2025-08-25   \n",
            "2  SPY20250825C00570000               SPY   570.0      2025-08-25   \n",
            "3  SPY20250825C00580000               SPY   580.0      2025-08-25   \n",
            "4  SPY20250825C00590000               SPY   590.0      2025-08-25   \n",
            "\n",
            "  contract_type  implied_volatility  open_interest  volume     bid     ask  \\\n",
            "0          call            0.841798           11.0    11.0  113.98  116.78   \n",
            "1          call            0.703128            2.0     2.0   93.98   96.79   \n",
            "2          call            0.565434            2.0   240.0   73.99   76.79   \n",
            "3          call            0.813478            3.0   233.0   63.99   66.80   \n",
            "4          call            0.710940            1.0   284.0   53.99   56.80   \n",
            "\n",
            "   last_price  market_price  underlying_price  risk_free_rate  \\\n",
            "0      106.25       115.380        645.309998         0.04088   \n",
            "1       96.12        95.385        645.309998         0.04088   \n",
            "2       75.03        75.390        645.309998         0.04088   \n",
            "3       66.14        65.395        645.309998         0.04088   \n",
            "4       55.93        55.395        645.309998         0.04088   \n",
            "\n",
            "             fetch_timestamp  time_to_expiry    data_source  \\\n",
            "0 2025-08-23 16:39:40.712793         0.00274  yahoo_finance   \n",
            "1 2025-08-23 16:39:40.712793         0.00274  yahoo_finance   \n",
            "2 2025-08-23 16:39:40.712793         0.00274  yahoo_finance   \n",
            "3 2025-08-23 16:39:40.712793         0.00274  yahoo_finance   \n",
            "4 2025-08-23 16:39:40.713785         0.00274  yahoo_finance   \n",
            "\n",
            "        simulated_trade_date  \n",
            "0 2025-08-22 16:39:41.671421  \n",
            "1 2025-08-22 16:39:41.671421  \n",
            "2 2025-08-22 16:39:41.671421  \n",
            "3 2025-08-22 16:39:41.671421  \n",
            "4 2025-08-22 16:39:41.671421  \n",
            "\n",
            "💾 Raw data saved to: data/raw/options_data_20250823_163952.csv\n"
          ]
        }
      ],
      "source": [
        "# Process options data\n",
        "print(\"🔄 Processing options data...\")\n",
        "raw_df = fetcher.process_options_data(options_list, stock_price, risk_free_rate)\n",
        "\n",
        "print(f\"\\n📊 Raw Data Summary:\")\n",
        "print(f\"Shape: {raw_df.shape}\")\n",
        "print(f\"Columns: {list(raw_df.columns)}\")\n",
        "print(f\"\\nFirst few rows:\")\n",
        "print(raw_df.head())\n",
        "\n",
        "# Save raw data\n",
        "raw_data_path = f\"{Config.DATA_RAW_PATH}options_data_{datetime.now().strftime('%Y%m%d_%H%M%S')}.csv\"\n",
        "os.makedirs(Config.DATA_RAW_PATH, exist_ok=True)\n",
        "fetcher.save_raw_data(raw_df, raw_data_path)\n",
        "print(f\"\\n💾 Raw data saved to: {raw_data_path}\")\n"
      ]
    },
    {
      "cell_type": "markdown",
      "metadata": {},
      "source": [
        "## Step 3: Data Cleaning and Quality Assessment"
      ]
    },
    {
      "cell_type": "code",
      "execution_count": 5,
      "metadata": {},
      "outputs": [
        {
          "name": "stderr",
          "output_type": "stream",
          "text": [
            "INFO:src.data_processor:Data cleaning complete. Final shape: (457, 19)\n",
            "INFO:src.data_processor:Removed 39 rows during cleaning\n"
          ]
        },
        {
          "name": "stdout",
          "output_type": "stream",
          "text": [
            "🧹 Starting data cleaning process...\n",
            "Cleaning configuration: {'MIN_VOLUME': 0, 'MIN_OPEN_INTEREST': 1, 'MIN_TIME_TO_EXPIRY': 0.002}\n",
            "\n",
            "📈 Data Cleaning Results:\n",
            "Original shape: (496, 18)\n",
            "Cleaned shape:  (457, 19)\n",
            "Rows removed:   39 (7.9%)\n",
            "\n",
            "🔍 Missing Values Check:\n",
            "✅ No missing values found!\n",
            "\n",
            "📊 Cleaned Data Sample:\n",
            "                 symbol underlying_symbol  strike expiration_date  \\\n",
            "0  SPY20250825C00530000               SPY   530.0      2025-08-25   \n",
            "1  SPY20250825C00550000               SPY   550.0      2025-08-25   \n",
            "2  SPY20250825C00570000               SPY   570.0      2025-08-25   \n",
            "3  SPY20250825C00580000               SPY   580.0      2025-08-25   \n",
            "4  SPY20250825C00590000               SPY   590.0      2025-08-25   \n",
            "\n",
            "  contract_type  implied_volatility  open_interest  volume     bid     ask  \\\n",
            "0          call            0.841798           11.0    11.0  113.98  116.78   \n",
            "1          call            0.703128            2.0     2.0   93.98   96.79   \n",
            "2          call            0.565434            2.0   240.0   73.99   76.79   \n",
            "3          call            0.813478            3.0   233.0   63.99   66.80   \n",
            "4          call            0.710940            1.0   284.0   53.99   56.80   \n",
            "\n",
            "   last_price  market_price  underlying_price  risk_free_rate  \\\n",
            "0      106.25       115.380        645.309998         0.04088   \n",
            "1       96.12        95.385        645.309998         0.04088   \n",
            "2       75.03        75.390        645.309998         0.04088   \n",
            "3       66.14        65.395        645.309998         0.04088   \n",
            "4       55.93        55.395        645.309998         0.04088   \n",
            "\n",
            "             fetch_timestamp  time_to_expiry    data_source  \\\n",
            "0 2025-08-23 16:39:40.712793         0.00274  yahoo_finance   \n",
            "1 2025-08-23 16:39:40.712793         0.00274  yahoo_finance   \n",
            "2 2025-08-23 16:39:40.712793         0.00274  yahoo_finance   \n",
            "3 2025-08-23 16:39:40.712793         0.00274  yahoo_finance   \n",
            "4 2025-08-23 16:39:40.713785         0.00274  yahoo_finance   \n",
            "\n",
            "        simulated_trade_date  moneyness  \n",
            "0 2025-08-22 16:39:41.671421   1.217566  \n",
            "1 2025-08-22 16:39:41.671421   1.173291  \n",
            "2 2025-08-22 16:39:41.671421   1.132123  \n",
            "3 2025-08-22 16:39:41.671421   1.112603  \n",
            "4 2025-08-22 16:39:41.671421   1.093746  \n"
          ]
        }
      ],
      "source": [
        "# Create configuration for data cleaning\n",
        "cleaning_config = {\n",
        "    'MIN_VOLUME': Config.MIN_VOLUME,\n",
        "    'MIN_OPEN_INTEREST': Config.MIN_OPEN_INTEREST,\n",
        "    'MIN_TIME_TO_EXPIRY': Config.MIN_TIME_TO_EXPIRY\n",
        "}\n",
        "\n",
        "print(\"🧹 Starting data cleaning process...\")\n",
        "print(f\"Cleaning configuration: {cleaning_config}\")\n",
        "\n",
        "# Clean the data\n",
        "cleaned_df = processor.clean_raw_data(raw_df, cleaning_config)\n",
        "\n",
        "# Display cleaning results\n",
        "print(f\"\\n📈 Data Cleaning Results:\")\n",
        "print(f\"Original shape: {raw_df.shape}\")\n",
        "print(f\"Cleaned shape:  {cleaned_df.shape}\")\n",
        "print(f\"Rows removed:   {len(raw_df) - len(cleaned_df)} ({(len(raw_df) - len(cleaned_df))/len(raw_df)*100:.1f}%)\")\n",
        "\n",
        "# Check for missing values\n",
        "print(f\"\\n🔍 Missing Values Check:\")\n",
        "missing_summary = cleaned_df.isnull().sum()\n",
        "if missing_summary.sum() > 0:\n",
        "    print(missing_summary[missing_summary > 0])\n",
        "else:\n",
        "    print(\"✅ No missing values found!\")\n",
        "    \n",
        "print(f\"\\n📊 Cleaned Data Sample:\")\n",
        "print(cleaned_df.head())\n"
      ]
    },
    {
      "cell_type": "code",
      "execution_count": 6,
      "metadata": {},
      "outputs": [
        {
          "name": "stdout",
          "output_type": "stream",
          "text": [
            "\n",
            "💾 Cleaned data saved to: data/processed/cleaned_options_data_20250823_164021.csv\n"
          ]
        }
      ],
      "source": [
        "# Save cleaned data\n",
        "if len(cleaned_df) > 0:\n",
        "    cleaned_data_path = f\"{Config.DATA_PROCESSED_PATH}cleaned_options_data_{datetime.now().strftime('%Y%m%d_%H%M%S')}.csv\"\n",
        "    os.makedirs(Config.DATA_PROCESSED_PATH, exist_ok=True)\n",
        "    processor.save_processed_data(cleaned_df, cleaned_data_path)\n",
        "    print(f\"\\n💾 Cleaned data saved to: {cleaned_data_path}\")\n",
        "else:\n",
        "    print(f\"\\n⚠️ No data to save - all records were filtered out during cleaning\")"
      ]
    }
  ],
  "metadata": {
    "kernelspec": {
      "display_name": "project",
      "language": "python",
      "name": "python3"
    },
    "language_info": {
      "codemirror_mode": {
        "name": "ipython",
        "version": 3
      },
      "file_extension": ".py",
      "mimetype": "text/x-python",
      "name": "python",
      "nbconvert_exporter": "python",
      "pygments_lexer": "ipython3",
      "version": "3.12.1"
    }
  },
  "nbformat": 4,
  "nbformat_minor": 2
}
